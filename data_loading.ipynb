{
 "cells": [
  {
   "cell_type": "code",
   "execution_count": null,
   "metadata": {},
   "outputs": [],
   "source": [
    "import numpy as np\n",
    "import nibabel as nib\n",
    "import matplotlib.pyplot as plt\n",
    "import os\n",
    "import gzip\n",
    "import shutil"
   ]
  },
  {
   "cell_type": "code",
   "execution_count": null,
   "metadata": {},
   "outputs": [],
   "source": [
    "'Functions'\n",
    "\n",
    "def preprocess_nifti_data(data_folder):\n",
    "    \"\"\"\n",
    "    Processes all .nii.gz files in a folder by extracting, loading, rotating, \n",
    "    and concatenating them into a single volume.\n",
    "    \n",
    "    Parameters:\n",
    "        data_folder (str): Path to the folder containing .nii.gz files.\n",
    "\n",
    "    Returns:\n",
    "        numpy.ndarray: The final 4D array of shape (Nx, Ny, Nz * num_files, t).\n",
    "    \"\"\"\n",
    "    volumes = []\n",
    "\n",
    "    # List all .nii.gz files in the folder\n",
    "    nii_gz_files = [f for f in os.listdir(data_folder) if f.endswith('.nii.gz')]\n",
    "\n",
    "    for file in nii_gz_files:\n",
    "        file_path = os.path.join(data_folder, file)\n",
    "        extracted_path = file_path[:-3]  # Remove \".gz\" to get \".nii\" path\n",
    "\n",
    "        # Extract the .nii file from .nii.gz\n",
    "        with gzip.open(file_path, 'rb') as f_in, open(extracted_path, 'wb') as f_out:\n",
    "            shutil.copyfileobj(f_in, f_out)\n",
    "\n",
    "        # Load the extracted .nii file\n",
    "        nii = nib.load(extracted_path)\n",
    "        data = nii.get_fdata()\n",
    "\n",
    "        # Rotate 90 degrees counterclockwise in the xy-plane\n",
    "        rotated_data = np.rot90(data, k=1, axes=(0, 1))\n",
    "\n",
    "        # Append to list\n",
    "        volumes.append(rotated_data)\n",
    "\n",
    "        # Delete the extracted .nii file after loading\n",
    "        os.remove(extracted_path)\n",
    "\n",
    "    # Concatenate along the z-axis\n",
    "    final_data = np.concatenate(volumes, axis=2)\n",
    "\n",
    "    print(f\"Final shape of ground truth: {final_data.shape}; dimensions: (Nx, Ny, Nz*Nvol, t)\")\n",
    "    return final_data\n",
    "\n",
    "\n",
    "def add_gaussian_noise(data, noise_level):\n",
    "    \"\"\"\n",
    "    Adds Gaussian noise to each slice and timeframe in the dataset with a different noise level per slice and timeframe.\n",
    "\n",
    "    Parameters:\n",
    "        data (numpy.ndarray): The full dataset of shape (Nx, Ny, Nz*Nvol, t).\n",
    "        noise_level (float): Maximum fraction of image intensity to use as noise (between 0 and 1).\n",
    "\n",
    "    Returns:\n",
    "        numpy.ndarray: The noisy dataset with the same shape as the input.\n",
    "    \"\"\"\n",
    "    noisy_data = np.zeros_like(data)\n",
    "\n",
    "    # Iterate over time dimension\n",
    "    for t in range(data.shape[-1]):\n",
    "        for z in range(data.shape[2]):  # Iterate over slices in the 3rd dimension\n",
    "            # Compute slice-specific noise level as a fraction of its max intensity\n",
    "            max_intensity = np.max(data[:, :, z, t])\n",
    "            noise_std = np.random.uniform(0, noise_level) * max_intensity  # Scale noise\n",
    "\n",
    "            # Add Gaussian noise to this slice\n",
    "            noise = np.random.normal(0, noise_std, data[:, :, z, t].shape)\n",
    "            noisy_data[:, :, z, t] = data[:, :, z, t] + noise\n",
    "\n",
    "    print(f\"Final shape of noisy dataset: {noisy_data.shape}; dimensions: (Nx, Ny, Nz*Nvol, t)\")\n",
    "\n",
    "    return noisy_data\n",
    "\n",
    "\n",
    "def get_run_and_slice(slice_index, slices_per_run=39):\n",
    "    \"\"\"\n",
    "    Input slice index from total data volume and return specific run and corresponding slice within run.\n",
    "\n",
    "    Paramters:\n",
    "        slice_index: Slice index from total volume.\n",
    "\n",
    "    Returns:\n",
    "        run: specific run from which given slice_index originates.\n",
    "        \n",
    "        slice_within_run: corresponding slice in run.\n",
    "    \"\"\"\n",
    "    run = slice_index // slices_per_run + 1  # Runs are 1-based\n",
    "    slice_within_run = slice_index % slices_per_run\n",
    "    return run, slice_within_run"
   ]
  },
  {
   "cell_type": "markdown",
   "metadata": {},
   "source": [
    "# Generate ground truth dataset"
   ]
  },
  {
   "cell_type": "code",
   "execution_count": null,
   "metadata": {},
   "outputs": [],
   "source": [
    "'Load data'\n",
    "\n",
    "# Choose path where all .nii.gz folders are saved\n",
    "data_folder = r'..\\Data'\n",
    "data = preprocess_nifti_data(data_folder)"
   ]
  },
  {
   "cell_type": "code",
   "execution_count": null,
   "metadata": {},
   "outputs": [],
   "source": [
    "'Save ground truth dataset'\n",
    "\n",
    "gt_path = rf\"{data_folder}\\groundtruth_dataset.npy\"\n",
    "np.save(gt_path, data)\n",
    "print(f'Ground truth dataset saved as \"{gt_path}\"')"
   ]
  },
  {
   "cell_type": "markdown",
   "metadata": {},
   "source": [
    "# Generate noisy dataset"
   ]
  },
  {
   "cell_type": "code",
   "execution_count": null,
   "metadata": {},
   "outputs": [],
   "source": [
    "'Add noise'\n",
    "\n",
    "# Select value between 0 and 1 for maximum percentage of image highest intensity to generate noise\n",
    "noisy_data = add_gaussian_noise(data, noise_level=0.1)"
   ]
  },
  {
   "cell_type": "code",
   "execution_count": null,
   "metadata": {},
   "outputs": [],
   "source": [
    "'Save noisy dataset'\n",
    "\n",
    "noisy_path = rf\"{data_folder}\\noisy_dataset.npy\"\n",
    "np.save(noisy_path, noisy_data)\n",
    "print(f'Noisy dataset saved as \"{noisy_path}\"')"
   ]
  },
  {
   "cell_type": "markdown",
   "metadata": {},
   "source": [
    "# Plots"
   ]
  },
  {
   "cell_type": "code",
   "execution_count": null,
   "metadata": {},
   "outputs": [],
   "source": [
    "'Plot example slices'\n",
    "\n",
    "# Choose slice and timeframe to plot\n",
    "slice_index = 23\n",
    "timeframe = 200\n",
    "\n",
    "# Get run and corresponding slice within that run\n",
    "run, slice_within_run = get_run_and_slice(slice_index)\n",
    "\n",
    "# Create figure with two subplots\n",
    "fig, axes = plt.subplots(1, 2, figsize=(10, 5))\n",
    "\n",
    "# Plot ground truth image\n",
    "axes[0].imshow(data[:, :, slice_index, timeframe], cmap='gray')\n",
    "axes[0].set_title(f'Ground Truth\\nRun {run}, Slice {slice_within_run}, Time {timeframe}')\n",
    "axes[0].axis(\"off\")\n",
    "\n",
    "# Plot noisy image\n",
    "axes[1].imshow(noisy_data[:, :, slice_index, timeframe], cmap='gray')\n",
    "axes[1].set_title(f'Noisy Image\\nRun {run}, Slice {slice_within_run}, Time {timeframe}')\n",
    "axes[1].axis(\"off\")\n",
    "\n",
    "# Show the plots\n",
    "plt.tight_layout()\n",
    "plt.show()"
   ]
  },
  {
   "cell_type": "code",
   "execution_count": null,
   "metadata": {},
   "outputs": [],
   "source": [
    "'Plot example voxel timeseries'\n",
    "\n",
    "# Choose voxel and slice to plot time series\n",
    "vx, vy = 30, 30\n",
    "\n",
    "# Get run and corresponding slice within that run\n",
    "run, slice_within_run = get_run_and_slice(slice_index) \n",
    "\n",
    "# Create figure\n",
    "plt.figure(figsize=(8, 5))\n",
    "\n",
    "# Plot time series for ground truth and noisy data\n",
    "plt.plot(data[vx, vy, slice_index, :], label=\"Ground Truth\", color='b')\n",
    "plt.plot(noisy_data[vx, vy, slice_index, :], label=\"Noisy Image\", color='r', alpha=0.7)\n",
    "\n",
    "# Add labels and title\n",
    "plt.xlabel(\"Timeframe\")\n",
    "plt.ylabel(\"Intensity\")\n",
    "plt.title(f'Run {run}, Voxel ({vx},{vy},{slice_within_run}) Time Series')\n",
    "\n",
    "# Add legend\n",
    "plt.legend()\n",
    "\n",
    "# Show plot\n",
    "plt.show()"
   ]
  }
 ],
 "metadata": {
  "kernelspec": {
   "display_name": "Python 3",
   "language": "python",
   "name": "python3"
  },
  "language_info": {
   "codemirror_mode": {
    "name": "ipython",
    "version": 3
   },
   "file_extension": ".py",
   "mimetype": "text/x-python",
   "name": "python",
   "nbconvert_exporter": "python",
   "pygments_lexer": "ipython3",
   "version": "3.13.0"
  }
 },
 "nbformat": 4,
 "nbformat_minor": 2
}
