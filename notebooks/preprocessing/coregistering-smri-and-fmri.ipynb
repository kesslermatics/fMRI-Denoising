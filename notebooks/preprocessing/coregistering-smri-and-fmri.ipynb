{
 "cells": [
  {
   "cell_type": "markdown",
   "id": "b90c9b94",
   "metadata": {},
   "source": [
    "### Denoising fMRI Scans with Diffusion Models:"
   ]
  },
  {
   "cell_type": "markdown",
   "id": "647d21de",
   "metadata": {},
   "source": [
    "## Coregistering sMRI and fMRI"
   ]
  },
  {
   "cell_type": "markdown",
   "id": "9b1c5c68",
   "metadata": {},
   "source": [
    "This code is for co-registering a structural MRI (sMRI) to the space of the functional MRI (fMRI) data.\n",
    "\n",
    "This script performs the following steps for each subject:\n",
    "1.  Loads the fMRI and sMRI data.\n",
    "2.  Creates a mean image from the 4D fMRI data to use as a stable registration target.\n",
    "3.  Resamples the sMRI to match the affine transformation and voxel grid of the\n",
    "    mean fMRI. This single step effectively co-registers and resizes the image.\n",
    "4.  Saves the co-registered sMRI.\n",
    "\n",
    "\n",
    "______"
   ]
  },
  {
   "cell_type": "code",
   "execution_count": null,
   "id": "6dc1283c",
   "metadata": {
    "execution": {
     "iopub.execute_input": "2025-06-21T17:58:48.190238Z",
     "iopub.status.busy": "2025-06-21T17:58:48.189824Z",
     "iopub.status.idle": "2025-06-21T17:59:08.134687Z",
     "shell.execute_reply": "2025-06-21T17:59:08.133743Z"
    },
    "papermill": {
     "duration": 19.950322,
     "end_time": "2025-06-21T17:59:08.136335",
     "exception": false,
     "start_time": "2025-06-21T17:58:48.186013",
     "status": "completed"
    },
    "tags": []
   },
   "outputs": [],
   "source": [
    "import os\n",
    "import re\n",
    "import nibabel as nib\n",
    "from nilearn import image, plotting\n",
    "\n",
    "def coregister_and_resample(fmri_path, smri_path, output_path, qc_plot_path=None):\n",
    "    \"\"\"\n",
    "    Co-registers and resamples an sMRI to an fMRI.\n",
    "\n",
    "    Args:\n",
    "        fmri_path (str): Path to the 4D fMRI NIfTI file (.nii or .nii.gz).\n",
    "        smri_path (str): Path to the 3D T1-weighted sMRI NIfTI file.\n",
    "        output_path (str): Path to save the co-registered sMRI NIfTI file.\n",
    "        qc_plot_path (str, optional): Path to save the quality control plot.\n",
    "                                      If None, the plot is displayed interactively.\n",
    "                                      Defaults to None.\n",
    "\n",
    "    Returns:\n",
    "        str: The path to the co-registered sMRI file.\n",
    "    \"\"\"\n",
    "    print(f\"\\n--- Starting Co-registration for: {os.path.basename(fmri_path)} ---\")\n",
    "\n",
    "    # load data\n",
    "    fmri_img = image.load_img(fmri_path)\n",
    "    smri_img = image.load_img(smri_path)\n",
    "\n",
    "    # mean fMRI from 4D\n",
    "    mean_fmri_img = image.mean_img(fmri_img)\n",
    "\n",
    "    \n",
    "    #co-register and resample the sMRI to the fMRI space\n",
    "    smri_coreg_resampled = image.resample_to_img(\n",
    "        source_img=smri_img,\n",
    "        target_img=mean_fmri_img,\n",
    "        interpolation='continuous'\n",
    "    )\n",
    "\n",
    "    # save\n",
    "    print(f\"Saving co-registered sMRI to: {output_path}\")\n",
    "    smri_coreg_resampled.to_filename(output_path)\n",
    "    print(\"File saved successfully.\")\n",
    "\n",
    "\n",
    "\n",
    "\n",
    "if __name__ == '__main__':\n",
    "    # Define the base directory for outputs\n",
    "    base_output_dir = '/kaggle/working/coregistered_outputs'\n",
    "    os.makedirs(base_output_dir, exist_ok=True)\n",
    "    \n",
    "    # List of paths for the fMRI files\n",
    "    fmri_files = [\n",
    "        '/kaggle/input/fmri-data/sub-01_ses-1_task-motor_run-10_bold.nii',\n",
    "        '/kaggle/input/fmri-data/sub-dd_ses-1_task-motor_run-10_bold.nii',\n",
    "        '/kaggle/input/fmri-data/sub-gg_ses-1_task-motor_run-10_bold.nii',\n",
    "        '/kaggle/input/fmri-data/sub-uu_ses-1_task-motor_run-10_bold.nii'\n",
    "    ]\n",
    "\n",
    "    # List of paths for the corresponding anatomical files (in matching order)\n",
    "    smri_files = [\n",
    "        '/kaggle/input/anatomy-data/sub-01_ses-1_T1w.nii/sub-01_ses-1_T1w.nii',\n",
    "        '/kaggle/input/anatomy-data/sub-dd_ses-1_T1w.nii/sub-dd_ses-1_T1w.nii',\n",
    "        '/kaggle/input/anatomy-data/sub-gg_ses-1_T1w.nii/sub-gg_ses-1_T1w.nii',\n",
    "        '/kaggle/input/anatomy-data/sub-uu_ses-1_T1w.nii/sub-uu_ses-1_T1w.nii' \n",
    "    ]\n",
    "\n",
    "    # zip() pairs each fMRI file with its corresponding sMRI file.\n",
    "    for fmri_path, smri_path in zip(fmri_files, smri_files):\n",
    "        \n",
    "        # check if input files exist before running\n",
    "        if not os.path.exists(fmri_path) or not os.path.exists(smri_path):\n",
    "            print(f\"\\nERROR: Skipping pair due to missing files.\")\n",
    "            if not os.path.exists(fmri_path):\n",
    "                print(f\"  - fMRI not found at: {fmri_path}\")\n",
    "            if not os.path.exists(smri_path):\n",
    "                print(f\"  - sMRI not found at: {smri_path}\")\n",
    "            continue # Skip to the next pair\n",
    "\n",
    "        # Generate Dynamic Output Paths\n",
    "        match = re.search(r'(sub-[^_]+)', os.path.basename(fmri_path))\n",
    "        if match:\n",
    "            subject_id = match.group(1)\n",
    "        else:\n",
    "            subject_id = os.path.basename(fmri_path).split('.')[0]\n",
    "\n",
    "        output_smri_coreg_path = os.path.join(base_output_dir, f'{subject_id}_smri_coregistered.nii.gz')\n",
    "        output_qc_plot_path = os.path.join(base_output_dir, f'{subject_id}_coregistration_qc.png')\n",
    "\n",
    "        # run the co-registration process\n",
    "        try:\n",
    "            coregister_and_resample(\n",
    "                fmri_path=fmri_path,\n",
    "                smri_path=smri_path,\n",
    "                output_path=output_smri_coreg_path,\n",
    "                qc_plot_path=output_qc_plot_path\n",
    "            )\n",
    "        except Exception as e:\n",
    "            print(f\"\\nAN ERROR OCCURRED while processing {subject_id}: {e}\")\n",
    "            print(\"Continuing to the next subject...\")\n",
    "\n",
    "    print(base_output_dir)"
   ]
  }
 ],
 "metadata": {
  "kaggle": {
   "accelerator": "none",
   "dataSources": [
    {
     "datasetId": 7707318,
     "sourceId": 12232472,
     "sourceType": "datasetVersion"
    },
    {
     "datasetId": 7707367,
     "sourceId": 12232573,
     "sourceType": "datasetVersion"
    }
   ],
   "dockerImageVersionId": 31040,
   "isGpuEnabled": false,
   "isInternetEnabled": true,
   "language": "python",
   "sourceType": "notebook"
  },
  "kernelspec": {
   "display_name": "base",
   "language": "python",
   "name": "python3"
  },
  "language_info": {
   "codemirror_mode": {
    "name": "ipython",
    "version": 3
   },
   "file_extension": ".py",
   "mimetype": "text/x-python",
   "name": "python",
   "nbconvert_exporter": "python",
   "pygments_lexer": "ipython3",
   "version": "3.12.7"
  },
  "papermill": {
   "default_parameters": {},
   "duration": 25.671275,
   "end_time": "2025-06-21T17:59:08.962163",
   "environment_variables": {},
   "exception": null,
   "input_path": "__notebook__.ipynb",
   "output_path": "__notebook__.ipynb",
   "parameters": {},
   "start_time": "2025-06-21T17:58:43.290888",
   "version": "2.6.0"
  }
 },
 "nbformat": 4,
 "nbformat_minor": 5
}
