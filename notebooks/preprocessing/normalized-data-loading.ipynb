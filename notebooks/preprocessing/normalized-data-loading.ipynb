{
 "cells": [
  {
   "cell_type": "markdown",
   "id": "c3e4a159",
   "metadata": {},
   "source": [
    "# Data loading & normalization"
   ]
  },
  {
   "cell_type": "markdown",
   "id": "2f30f136",
   "metadata": {},
   "source": [
    "## Imports"
   ]
  },
  {
   "cell_type": "code",
   "execution_count": 1,
   "id": "4b4f21ed",
   "metadata": {
    "execution": {
     "iopub.execute_input": "2025-05-13T17:49:54.907643Z",
     "iopub.status.busy": "2025-05-13T17:49:54.907276Z",
     "iopub.status.idle": "2025-05-13T17:49:56.075059Z",
     "shell.execute_reply": "2025-05-13T17:49:56.073821Z"
    },
    "papermill": {
     "duration": 1.176578,
     "end_time": "2025-05-13T17:49:56.076962",
     "exception": false,
     "start_time": "2025-05-13T17:49:54.900384",
     "status": "completed"
    },
    "tags": []
   },
   "outputs": [],
   "source": [
    "import numpy as np\n",
    "import nibabel as nib\n",
    "import matplotlib.pyplot as plt\n",
    "import os\n",
    "import gzip\n",
    "import shutil"
   ]
  },
  {
   "cell_type": "markdown",
   "id": "001e075a",
   "metadata": {},
   "source": [
    "## Defining normalization"
   ]
  },
  {
   "cell_type": "code",
   "execution_count": 2,
   "id": "128a1262",
   "metadata": {
    "execution": {
     "iopub.execute_input": "2025-05-13T17:49:56.085405Z",
     "iopub.status.busy": "2025-05-13T17:49:56.084965Z",
     "iopub.status.idle": "2025-05-13T17:49:56.091190Z",
     "shell.execute_reply": "2025-05-13T17:49:56.090116Z"
    },
    "papermill": {
     "duration": 0.011924,
     "end_time": "2025-05-13T17:49:56.092616",
     "exception": false,
     "start_time": "2025-05-13T17:49:56.080692",
     "status": "completed"
    },
    "tags": []
   },
   "outputs": [],
   "source": [
    "# Normalization\n",
    "def zscore_normalize_time_series(fmri_data):\n",
    "    \"\"\"\n",
    "    Applies z-score normalization over time (last axis) to a 4D fMRI array.\n",
    "\n",
    "    Parameters:\n",
    "        fmri_data (np.ndarray): 4D array of shape (Nx, Ny, Nz*Nvol, T)\n",
    "\n",
    "    Returns:\n",
    "        np.ndarray: z-score normalized array of same shape\n",
    "    \"\"\"\n",
    "    mean = fmri_data.mean(axis=-1, keepdims=True)\n",
    "    std = fmri_data.std(axis=-1, keepdims=True)\n",
    "\n",
    "    # Avoid division by zero\n",
    "    std[std == 0] = 1.0\n",
    "\n",
    "    return (fmri_data - mean) / std"
   ]
  },
  {
   "cell_type": "markdown",
   "id": "270605d6",
   "metadata": {},
   "source": [
    "## Preprocessing functions"
   ]
  },
  {
   "cell_type": "code",
   "execution_count": 3,
   "id": "616fab00",
   "metadata": {
    "execution": {
     "iopub.execute_input": "2025-05-13T17:49:56.101599Z",
     "iopub.status.busy": "2025-05-13T17:49:56.101287Z",
     "iopub.status.idle": "2025-05-13T17:49:56.112092Z",
     "shell.execute_reply": "2025-05-13T17:49:56.111066Z"
    },
    "papermill": {
     "duration": 0.017154,
     "end_time": "2025-05-13T17:49:56.113697",
     "exception": false,
     "start_time": "2025-05-13T17:49:56.096543",
     "status": "completed"
    },
    "tags": []
   },
   "outputs": [],
   "source": [
    "'Functions'\n",
    "\n",
    "def preprocess_nifti_data(data_folder, subject):\n",
    "    \"\"\"\n",
    "    Processes all .nii.gz files in a folder by extracting, loading, rotating, \n",
    "    and concatenating them into a single volume.\n",
    "    \n",
    "    Parameters:\n",
    "        data_folder (str): Path to the folder containing .nii.gz files.\n",
    "\n",
    "    Returns:\n",
    "        numpy.ndarray: The final 4D array of shape (Nx, Ny, Nz * num_files, t).\n",
    "    \"\"\"\n",
    "\n",
    "    volumes = []\n",
    "\n",
    "    # List all .nii.gz files in the folder\n",
    "    nii_gz_files = [f for f in os.listdir(data_folder) if f.endswith('.nii') and subject in f]\n",
    "\n",
    "    for file in nii_gz_files:\n",
    "        file_path = os.path.join(data_folder, file)\n",
    "\n",
    "        # Load the extracted .nii file\n",
    "        nii = nib.load(file_path)\n",
    "        data = nii.get_fdata()\n",
    "\n",
    "        # Rotate 90 degrees counterclockwise in the xy-plane\n",
    "        rotated_data = np.rot90(data, k=1, axes=(0, 1))\n",
    "\n",
    "        # Append to list\n",
    "        volumes.append(rotated_data)\n",
    "\n",
    "    # Concatenate along the z-axis\n",
    "    final_data = np.concatenate(volumes, axis=2)\n",
    "\n",
    "    print(f\"Final shape of ground truth: {final_data.shape}; dimensions: (Nx, Ny, Nz*Nvol, t)\")\n",
    "    return zscore_normalize_time_series(final_data)\n",
    "\n",
    "\n",
    "def add_gaussian_noise(data, noise_level):\n",
    "    \"\"\"\n",
    "    Adds Gaussian noise to each slice and timeframe in the dataset with a different noise level per slice and timeframe.\n",
    "\n",
    "    Parameters:\n",
    "        data (numpy.ndarray): The full dataset of shape (Nx, Ny, Nz*Nvol, t).\n",
    "        noise_level (float): Maximum fraction of image intensity to use as noise (between 0 and 1).\n",
    "\n",
    "    Returns:\n",
    "        numpy.ndarray: The noisy dataset with the same shape as the input.\n",
    "    \"\"\"\n",
    "    noisy_data = np.zeros_like(data)\n",
    "\n",
    "    # Iterate over time dimension\n",
    "    for t in range(data.shape[-1]):\n",
    "        for z in range(data.shape[2]):  # Iterate over slices in the 3rd dimension\n",
    "            # Compute slice-specific noise level as a fraction of its max intensity\n",
    "            max_intensity = np.max(data[:, :, z, t])\n",
    "            noise_std = np.random.uniform(0, noise_level) * max_intensity  # Scale noise\n",
    "\n",
    "            # Add Gaussian noise to this slice\n",
    "            noise = np.random.normal(0, noise_std, data[:, :, z, t].shape)\n",
    "            noisy_data[:, :, z, t] = data[:, :, z, t] + noise\n",
    "\n",
    "    print(f\"Final shape of noisy dataset: {noisy_data.shape}; dimensions: (Nx, Ny, Nz*Nvol, t)\")\n",
    "\n",
    "    return noisy_data\n",
    "\n",
    "\n",
    "def get_run_and_slice(slice_index, slices_per_run=39):\n",
    "    \"\"\"\n",
    "    Input slice index from total data volume and return specific run and corresponding slice within run.\n",
    "\n",
    "    Paramters:\n",
    "        slice_index: Slice index from total volume.\n",
    "\n",
    "    Returns:\n",
    "        run: specific run from which given slice_index originates.\n",
    "        \n",
    "        slice_within_run: corresponding slice in run.\n",
    "    \"\"\"\n",
    "    run = slice_index // slices_per_run + 1  # Runs are 1-based\n",
    "    slice_within_run = slice_index % slices_per_run\n",
    "    return run, slice_within_run"
   ]
  },
  {
   "cell_type": "markdown",
   "id": "1577fe2d",
   "metadata": {
    "papermill": {
     "duration": 0.003153,
     "end_time": "2025-05-13T17:49:56.120466",
     "exception": false,
     "start_time": "2025-05-13T17:49:56.117313",
     "status": "completed"
    },
    "tags": []
   },
   "source": [
    "##  Load ground truth & noisy dataset \n",
    "Includes processing to npy format and adding of noise for noisy dataset creation"
   ]
  },
  {
   "cell_type": "code",
   "execution_count": 4,
   "id": "b00b21f5",
   "metadata": {
    "execution": {
     "iopub.execute_input": "2025-05-13T17:49:56.129930Z",
     "iopub.status.busy": "2025-05-13T17:49:56.129608Z",
     "iopub.status.idle": "2025-05-13T17:49:56.134607Z",
     "shell.execute_reply": "2025-05-13T17:49:56.133656Z"
    },
    "papermill": {
     "duration": 0.011134,
     "end_time": "2025-05-13T17:49:56.136334",
     "exception": false,
     "start_time": "2025-05-13T17:49:56.125200",
     "status": "completed"
    },
    "tags": []
   },
   "outputs": [],
   "source": [
    "output_base_dir = \"/kaggle/working/data\"\n",
    "os.makedirs(f\"{output_base_dir}/data\", exist_ok=True)"
   ]
  },
  {
   "cell_type": "markdown",
   "id": "0d5f35d3",
   "metadata": {
    "papermill": {
     "duration": 0.003518,
     "end_time": "2025-05-13T17:49:56.143346",
     "exception": false,
     "start_time": "2025-05-13T17:49:56.139828",
     "status": "completed"
    },
    "tags": []
   },
   "source": [
    "### Anat data"
   ]
  },
  {
   "cell_type": "code",
   "execution_count": 5,
   "id": "481bd46c",
   "metadata": {
    "execution": {
     "iopub.execute_input": "2025-05-13T17:49:56.151583Z",
     "iopub.status.busy": "2025-05-13T17:49:56.151261Z",
     "iopub.status.idle": "2025-05-13T17:49:56.156334Z",
     "shell.execute_reply": "2025-05-13T17:49:56.155385Z"
    },
    "papermill": {
     "duration": 0.010998,
     "end_time": "2025-05-13T17:49:56.157994",
     "exception": false,
     "start_time": "2025-05-13T17:49:56.146996",
     "status": "completed"
    },
    "tags": []
   },
   "outputs": [],
   "source": [
    "# 'Load raw data and save processed ground truth dataset'\n",
    "\n",
    "# # Creating train dataset (anat data)\n",
    "# data_folder = r'/kaggle/input/fmri-data-splitted/split_data/anat/train'\n",
    "# data = preprocess_nifti_data(data_folder)\n",
    "# gt_path = rf\"/kaggle/working/processed_data/anat/gt_anat_train.npy\"\n",
    "# np.save(gt_path, data)\n",
    "# print(f'GT train dataset (anat) saved as \"{gt_path}\"')\n",
    "\n",
    "# # Select value between 0 and 1 for maximum percentage of image highest intensity to generate noise\n",
    "# noisy_data = add_gaussian_noise(data, noise_level=0.1)\n",
    "# noisy_path = rf\"/kaggle/working/processed_data/anat/noisy_anat_train.npy\"\n",
    "# np.save(noisy_path, noisy_data)\n",
    "# print(f'Noisy train dataset (anat) saved as \"{noisy_path}\"')\n",
    "\n",
    "\n",
    "\n",
    "# # Creating test dataset (anat data)\n",
    "# data_folder = r'/kaggle/input/fmri-data-splitted/split_data/anat/test'\n",
    "# data = preprocess_nifti_data(data_folder)\n",
    "# gt_path = rf\"/kaggle/working/processed_data/anat/gt_anat_test.npy\"\n",
    "# np.save(gt_path, data)\n",
    "# print(f'GT test dataset (anat) saved as \"{gt_path}\"')\n",
    "\n",
    "# # Select value between 0 and 1 for maximum percentage of image highest intensity to generate noise\n",
    "# noisy_data = add_gaussian_noise(data, noise_level=0.1)\n",
    "# noisy_path = rf\"/kaggle/working/processed_data/anat/noisy_anat_test.npy\"\n",
    "# np.save(noisy_path, noisy_data)\n",
    "# print(f'Noisy test dataset (anat) saved as \"{noisy_path}\"')"
   ]
  },
  {
   "cell_type": "markdown",
   "id": "cc43a599",
   "metadata": {
    "papermill": {
     "duration": 0.003242,
     "end_time": "2025-05-13T17:49:56.164837",
     "exception": false,
     "start_time": "2025-05-13T17:49:56.161595",
     "status": "completed"
    },
    "tags": []
   },
   "source": [
    "### Func data"
   ]
  },
  {
   "cell_type": "markdown",
   "id": "dd50485b",
   "metadata": {
    "papermill": {
     "duration": 0.003068,
     "end_time": "2025-05-13T17:49:56.171405",
     "exception": false,
     "start_time": "2025-05-13T17:49:56.168337",
     "status": "completed"
    },
    "tags": []
   },
   "source": [
    "Train"
   ]
  },
  {
   "cell_type": "code",
   "execution_count": 6,
   "id": "6cf61932",
   "metadata": {
    "execution": {
     "iopub.execute_input": "2025-05-13T17:49:56.179347Z",
     "iopub.status.busy": "2025-05-13T17:49:56.179025Z",
     "iopub.status.idle": "2025-05-13T17:50:47.800823Z",
     "shell.execute_reply": "2025-05-13T17:50:47.798206Z"
    },
    "papermill": {
     "duration": 51.630317,
     "end_time": "2025-05-13T17:50:47.804903",
     "exception": false,
     "start_time": "2025-05-13T17:49:56.174586",
     "status": "completed"
    },
    "tags": []
   },
   "outputs": [
    {
     "name": "stdout",
     "output_type": "stream",
     "text": [
      "Final shape of ground truth: (64, 64, 156, 300); dimensions: (Nx, Ny, Nz*Nvol, t)\n",
      "GT train dataset (func) saved as \"/kaggle/working/data/gt_func_train_1.npy\"\n",
      "Final shape of noisy dataset: (64, 64, 156, 300); dimensions: (Nx, Ny, Nz*Nvol, t)\n",
      "Noisy train dataset (func) saved as \"/kaggle/working/data/noisy_func_train_1.npy\"\n"
     ]
    }
   ],
   "source": [
    "'Load raw data and save processed ground truth dataset'\n",
    "\n",
    "# Creating train dataset (func data)\n",
    "data_folder = r'/kaggle/input/fmri-data-splitted/split_data/func/train'\n",
    "data = preprocess_nifti_data(data_folder, \"sub-01\")\n",
    "gt_path = rf\"/kaggle/working/data/gt_func_train_1.npy\"\n",
    "np.save(gt_path, data)\n",
    "print(f'GT train dataset (func) saved as \"{gt_path}\"')\n",
    "\n",
    "# Select value between 0 and 1 for maximum percentage of image highest intensity to generate noise\n",
    "noisy_data = add_gaussian_noise(data, noise_level=0.1)\n",
    "noisy_path = rf\"/kaggle/working/data/noisy_func_train_1.npy\"\n",
    "np.save(noisy_path, noisy_data)\n",
    "print(f'Noisy train dataset (func) saved as \"{noisy_path}\"')"
   ]
  },
  {
   "cell_type": "code",
   "execution_count": 7,
   "id": "58273e61",
   "metadata": {
    "execution": {
     "iopub.execute_input": "2025-05-13T17:50:47.813866Z",
     "iopub.status.busy": "2025-05-13T17:50:47.813527Z",
     "iopub.status.idle": "2025-05-13T17:50:47.818801Z",
     "shell.execute_reply": "2025-05-13T17:50:47.817690Z"
    },
    "papermill": {
     "duration": 0.011882,
     "end_time": "2025-05-13T17:50:47.820663",
     "exception": false,
     "start_time": "2025-05-13T17:50:47.808781",
     "status": "completed"
    },
    "tags": []
   },
   "outputs": [],
   "source": [
    "# 'Load raw data and save processed ground truth dataset'\n",
    "\n",
    "# # Creating train dataset (func data)\n",
    "# data_folder = r'/kaggle/input/fmri-data-splitted/split_data/func/train'\n",
    "# data = preprocess_nifti_data(data_folder, \"sub-dd\")\n",
    "# gt_path = rf\"/kaggle/working/data/gt_func_train_2.npy\"\n",
    "# np.save(gt_path, data)\n",
    "# print(f'GT train dataset (func) saved as \"{gt_path}\"')\n",
    "\n",
    "# # Select value between 0 and 1 for maximum percentage of image highest intensity to generate noise\n",
    "# noisy_data = add_gaussian_noise(data, noise_level=0.1)\n",
    "# noisy_path = rf\"/kaggle/working/data/noisy_func_train_2.npy\"\n",
    "# np.save(noisy_path, noisy_data)\n",
    "# print(f'Noisy train dataset (func) saved as \"{noisy_path}\"')"
   ]
  },
  {
   "cell_type": "code",
   "execution_count": 8,
   "id": "1f0323e0",
   "metadata": {
    "execution": {
     "iopub.execute_input": "2025-05-13T17:50:47.829672Z",
     "iopub.status.busy": "2025-05-13T17:50:47.829338Z",
     "iopub.status.idle": "2025-05-13T17:50:47.834154Z",
     "shell.execute_reply": "2025-05-13T17:50:47.833089Z"
    },
    "papermill": {
     "duration": 0.011143,
     "end_time": "2025-05-13T17:50:47.835804",
     "exception": false,
     "start_time": "2025-05-13T17:50:47.824661",
     "status": "completed"
    },
    "tags": []
   },
   "outputs": [],
   "source": [
    "# 'Load raw data and save processed ground truth dataset'\n",
    "\n",
    "# # Creating train dataset (func data)\n",
    "# data_folder = r'/kaggle/input/fmri-data-splitted/split_data/func/train'\n",
    "# data = preprocess_nifti_data(data_folder, \"sub-gg\")\n",
    "# gt_path = rf\"/kaggle/working/data/gt_func_train_3.npy\"\n",
    "# np.save(gt_path, data)\n",
    "# print(f'GT train dataset (func) saved as \"{gt_path}\"')\n",
    "\n",
    "# # Select value between 0 and 1 for maximum percentage of image highest intensity to generate noise\n",
    "# noisy_data = add_gaussian_noise(data, noise_level=0.1)\n",
    "# noisy_path = rf\"/kaggle/working/data/noisy_func_train_3.npy\"\n",
    "# np.save(noisy_path, noisy_data)\n",
    "# print(f'Noisy train dataset (func) saved as \"{noisy_path}\"')"
   ]
  },
  {
   "cell_type": "markdown",
   "id": "a1de569e",
   "metadata": {
    "papermill": {
     "duration": 0.003665,
     "end_time": "2025-05-13T17:50:47.843287",
     "exception": false,
     "start_time": "2025-05-13T17:50:47.839622",
     "status": "completed"
    },
    "tags": []
   },
   "source": [
    "Test"
   ]
  },
  {
   "cell_type": "code",
   "execution_count": 9,
   "id": "7bae6b91",
   "metadata": {
    "execution": {
     "iopub.execute_input": "2025-05-13T17:50:47.852543Z",
     "iopub.status.busy": "2025-05-13T17:50:47.852278Z",
     "iopub.status.idle": "2025-05-13T17:50:47.856750Z",
     "shell.execute_reply": "2025-05-13T17:50:47.855826Z"
    },
    "papermill": {
     "duration": 0.010991,
     "end_time": "2025-05-13T17:50:47.858680",
     "exception": false,
     "start_time": "2025-05-13T17:50:47.847689",
     "status": "completed"
    },
    "tags": []
   },
   "outputs": [],
   "source": [
    "# # Creating test dataset (func data)\n",
    "# data_folder = r'/kaggle/input/fmri-data-splitted/split_data/func/test'\n",
    "# data = preprocess_nifti_data(data_folder, \"sub-uu\")\n",
    "# gt_path = rf\"/kaggle/working/data/gt_func_test.npy\"\n",
    "# np.save(gt_path, data)\n",
    "# print(f'GT test dataset (func) saved as \"{gt_path}\"')\n",
    "\n",
    "# # Select value between 0 and 1 for maximum percentage of image highest intensity to generate noise\n",
    "# noisy_data = add_gaussian_noise(data, noise_level=0.1)\n",
    "# noisy_path = rf\"/kaggle/working/data/noisy_func_test.npy\"\n",
    "# np.save(noisy_path, noisy_data)\n",
    "# print(f'Noisy test dataset (func) saved as \"{noisy_path}\"')"
   ]
  },
  {
   "cell_type": "markdown",
   "id": "3c13cce5",
   "metadata": {
    "papermill": {
     "duration": 0.003265,
     "end_time": "2025-05-13T17:50:47.865649",
     "exception": false,
     "start_time": "2025-05-13T17:50:47.862384",
     "status": "completed"
    },
    "tags": []
   },
   "source": [
    "# Plots"
   ]
  },
  {
   "cell_type": "code",
   "execution_count": 10,
   "id": "391606b2",
   "metadata": {
    "execution": {
     "iopub.execute_input": "2025-05-13T17:50:47.873815Z",
     "iopub.status.busy": "2025-05-13T17:50:47.873505Z",
     "iopub.status.idle": "2025-05-13T17:50:47.878174Z",
     "shell.execute_reply": "2025-05-13T17:50:47.877293Z"
    },
    "papermill": {
     "duration": 0.010568,
     "end_time": "2025-05-13T17:50:47.879631",
     "exception": false,
     "start_time": "2025-05-13T17:50:47.869063",
     "status": "completed"
    },
    "tags": []
   },
   "outputs": [],
   "source": [
    "# 'Plot example slices'\n",
    "\n",
    "# # Choose slice and timeframe to plot\n",
    "# slice_index = 70\n",
    "# timeframe = 200\n",
    "\n",
    "# # Get run and corresponding slice within that run\n",
    "# run, slice_within_run = get_run_and_slice(slice_index)\n",
    "\n",
    "# # Create figure with two subplots\n",
    "# fig, axes = plt.subplots(1, 2, figsize=(10, 5))\n",
    "\n",
    "# # Plot ground truth image\n",
    "# axes[0].imshow(data[:, :, slice_index, timeframe], cmap='gray')\n",
    "# axes[0].set_title(f'Ground Truth\\nRun {run}, Slice {slice_within_run}, Time {timeframe}')\n",
    "# axes[0].axis(\"off\")\n",
    "\n",
    "# # Plot noisy image\n",
    "# axes[1].imshow(noisy_data[:, :, slice_index, timeframe], cmap='gray')\n",
    "# axes[1].set_title(f'Noisy Image\\nRun {run}, Slice {slice_within_run}, Time {timeframe}')\n",
    "# axes[1].axis(\"off\")\n",
    "\n",
    "# # Show the plots\n",
    "# plt.tight_layout()\n",
    "# plt.show()"
   ]
  },
  {
   "cell_type": "code",
   "execution_count": 11,
   "id": "7ee34007",
   "metadata": {
    "execution": {
     "iopub.execute_input": "2025-05-13T17:50:47.889142Z",
     "iopub.status.busy": "2025-05-13T17:50:47.888810Z",
     "iopub.status.idle": "2025-05-13T17:50:47.893342Z",
     "shell.execute_reply": "2025-05-13T17:50:47.892314Z"
    },
    "papermill": {
     "duration": 0.011272,
     "end_time": "2025-05-13T17:50:47.895142",
     "exception": false,
     "start_time": "2025-05-13T17:50:47.883870",
     "status": "completed"
    },
    "tags": []
   },
   "outputs": [],
   "source": [
    "# 'Plot example voxel timeseries'\n",
    "\n",
    "# # Choose voxel and slice to plot time series\n",
    "# vx, vy = 30, 30\n",
    "\n",
    "# # Get run and corresponding slice within that run\n",
    "# run, slice_within_run = get_run_and_slice(slice_index) \n",
    "\n",
    "# # Create figure\n",
    "# plt.figure(figsize=(8, 5))\n",
    "\n",
    "# # Plot time series for ground truth and noisy data\n",
    "# plt.plot(data[vx, vy, slice_index, :], label=\"Ground Truth\", color='b')\n",
    "# plt.plot(noisy_data[vx, vy, slice_index, :], label=\"Noisy Image\", color='r', alpha=0.7)\n",
    "\n",
    "# # Add labels and title\n",
    "# plt.xlabel(\"Timeframe\")\n",
    "# plt.ylabel(\"Intensity\")\n",
    "# plt.title(f'Run {run}, Voxel ({vx},{vy},{slice_within_run}) Time Series')\n",
    "\n",
    "# # Add legend\n",
    "# plt.legend()\n",
    "\n",
    "# # Show plot\n",
    "# plt.show()"
   ]
  },
  {
   "cell_type": "code",
   "execution_count": null,
   "id": "93fb9d2c",
   "metadata": {
    "papermill": {
     "duration": 0.003328,
     "end_time": "2025-05-13T17:50:47.902482",
     "exception": false,
     "start_time": "2025-05-13T17:50:47.899154",
     "status": "completed"
    },
    "tags": []
   },
   "outputs": [],
   "source": []
  }
 ],
 "metadata": {
  "kaggle": {
   "accelerator": "none",
   "dataSources": [
    {
     "datasetId": 7107570,
     "sourceId": 11733448,
     "sourceType": "datasetVersion"
    }
   ],
   "dockerImageVersionId": 31012,
   "isGpuEnabled": false,
   "isInternetEnabled": true,
   "language": "python",
   "sourceType": "notebook"
  },
  "kernelspec": {
   "display_name": "Python 3",
   "language": "python",
   "name": "python3"
  },
  "language_info": {
   "codemirror_mode": {
    "name": "ipython",
    "version": 3
   },
   "file_extension": ".py",
   "mimetype": "text/x-python",
   "name": "python",
   "nbconvert_exporter": "python",
   "pygments_lexer": "ipython3",
   "version": "3.11.11"
  },
  "papermill": {
   "default_parameters": {},
   "duration": 60.573729,
   "end_time": "2025-05-13T17:50:48.427620",
   "environment_variables": {},
   "exception": null,
   "input_path": "__notebook__.ipynb",
   "output_path": "__notebook__.ipynb",
   "parameters": {},
   "start_time": "2025-05-13T17:49:47.853891",
   "version": "2.6.0"
  }
 },
 "nbformat": 4,
 "nbformat_minor": 5
}
