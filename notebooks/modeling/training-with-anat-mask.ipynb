{
 "cells": [
  {
   "cell_type": "markdown",
   "id": "9fe4d9bb",
   "metadata": {},
   "source": [
    "### Denoising fMRI Scans with Diffusion Models:"
   ]
  },
  {
   "cell_type": "markdown",
   "id": "011156e6",
   "metadata": {},
   "source": [
    "## Training with Anatomy as Condition and Masked Loss"
   ]
  },
  {
   "cell_type": "markdown",
   "id": "82ad4b11",
   "metadata": {},
   "source": [
    "This Code is based on the implementation of the Super-Resolution Network SR3: https://github.com/Janspiry/Image-Super-Resolution-via-Iterative-Refinement.git\n",
    "\n",
    "Changes were made throughout the full code to convert the super-resolution architecture to a denoising-architecture with an additional condition (Structural MRI / anatomy) and masked loss.\n",
    "______"
   ]
  },
  {
   "cell_type": "markdown",
   "id": "eb96fe65",
   "metadata": {
    "papermill": {
     "duration": 0.004501,
     "end_time": "2025-06-22T02:33:59.260973",
     "exception": false,
     "start_time": "2025-06-22T02:33:59.256472",
     "status": "completed"
    },
    "tags": []
   },
   "source": [
    "Imports"
   ]
  },
  {
   "cell_type": "code",
   "execution_count": null,
   "id": "21817c32",
   "metadata": {
    "execution": {
     "iopub.execute_input": "2025-06-22T02:33:59.270901Z",
     "iopub.status.busy": "2025-06-22T02:33:59.270438Z",
     "iopub.status.idle": "2025-06-22T02:34:06.624739Z",
     "shell.execute_reply": "2025-06-22T02:34:06.624105Z"
    },
    "papermill": {
     "duration": 7.360709,
     "end_time": "2025-06-22T02:34:06.626131",
     "exception": false,
     "start_time": "2025-06-22T02:33:59.265422",
     "status": "completed"
    },
    "tags": []
   },
   "outputs": [],
   "source": [
    "import torch\n",
    "import logging\n",
    "import os\n",
    "import numpy as np\n",
    "import copy\n",
    "from torch.utils.data import Dataset\n",
    "from collections import OrderedDict\n",
    "import functools\n",
    "from torch.nn import init\n",
    "\n",
    "# U-Net\n",
    "import math\n",
    "from inspect import isfunction\n",
    "\n",
    "# Diffusion\n",
    "from torch import nn\n",
    "from functools import partial\n",
    "from tqdm import tqdm\n",
    "\n",
    "# learning rate scheduler\n",
    "import torch.optim.lr_scheduler as lr_scheduler\n",
    "\n",
    "# mixed precision training for memory\n",
    "from torch.cuda.amp import GradScaler\n",
    "\n",
    "# read masks\n",
    "import nibabel as nib\n",
    "import matplotlib.pyplot as plt"
   ]
  },
  {
   "cell_type": "markdown",
   "id": "60dc3296",
   "metadata": {
    "papermill": {
     "duration": 0.004524,
     "end_time": "2025-06-22T02:34:06.635612",
     "exception": false,
     "start_time": "2025-06-22T02:34:06.631088",
     "status": "completed"
    },
    "tags": []
   },
   "source": [
    "Config"
   ]
  },
  {
   "cell_type": "code",
   "execution_count": 3,
   "id": "abf127d6",
   "metadata": {
    "execution": {
     "iopub.execute_input": "2025-06-22T02:34:06.646069Z",
     "iopub.status.busy": "2025-06-22T02:34:06.645471Z",
     "iopub.status.idle": "2025-06-22T02:34:06.652953Z",
     "shell.execute_reply": "2025-06-22T02:34:06.652432Z"
    },
    "papermill": {
     "duration": 0.01375,
     "end_time": "2025-06-22T02:34:06.653970",
     "exception": false,
     "start_time": "2025-06-22T02:34:06.640220",
     "status": "completed"
    },
    "tags": []
   },
   "outputs": [],
   "source": [
    "opt = {\n",
    "    \"name\": \"denoising\",\n",
    "    \"phase\": \"train\",\n",
    "    \"gpu_ids\": [0, 1], \n",
    "    \"debug\": False,  \n",
    "    \"enable_wandb\": False,  \n",
    "    \"log_wandb_ckpt\": False,  \n",
    "    \"log_eval\": False,  \n",
    "    \"path\": {\n",
    "        \"log\": \"/kaggle/working/logs\",\n",
    "        \"tb_logger\": \"/kaggle/working/tb_logger\",\n",
    "        \"results\": \"/kaggle/working/results\",\n",
    "        \"checkpoint\": \"/kaggle/working/checkpoint\",\n",
    "        \"resume_state\": None\n",
    "    },\n",
    "    \"datasets\": {\n",
    "        \"train\": {\n",
    "            \"noisy_data_paths\": ['/kaggle/input/fmri-train-1-norm-v3/data/noisy_func_train_1.npy',\n",
    "                '/kaggle/input/fmri-train-2-norm-v3/data/noisy_func_train_2.npy',\n",
    "                '/kaggle/input/fmri-train-3-norm-v3/data/noisy_func_train_3.npy'],\n",
    "            \"gt_data_paths\": ['/kaggle/input/fmri-train-1-norm-v3/data/gt_func_train_1.npy',\n",
    "                '/kaggle/input/fmri-train-2-norm-v3/data/gt_func_train_2.npy',\n",
    "                '/kaggle/input/fmri-train-3-norm-v3/data/gt_func_train_3.npy'],\n",
    "            \"mask_data_paths\": ['/kaggle/input/brain-mask-01/brain_mask_01.nii',\n",
    "                '/kaggle/input/brain-mask-dd/brain_mask_dd.nii',\n",
    "                '/kaggle/input/brain-mask-gg/brain_mask_gg.nii'],\n",
    "            \"anat_data_paths\": ['/kaggle/input/coregistered-anatomy/coregistered_outputs/sub-01_smri_coregistered.nii',\n",
    "                '/kaggle/input/coregistered-anatomy/coregistered_outputs/sub-dd_smri_coregistered.nii',\n",
    "                '/kaggle/input/coregistered-anatomy/coregistered_outputs/sub-gg_smri_coregistered.nii'],\n",
    "            \"batch_size\": 2,\n",
    "            \"num_workers\": 4,\n",
    "            \"use_shuffle\": True\n",
    "        },\n",
    "        \"test\": {\n",
    "            \"noisy_data_paths\": ['/kaggle/input/fmri-test-norm-v3/data/noisy_func_test.npy'],\n",
    "            \"gt_data_paths\": ['/kaggle/input/fmri-test-norm-v3/data/gt_func_test.npy'],\n",
    "            \"mask_data_paths\": ['/kaggle/input/brain-mask-uu/brain_mask_uu.nii'],\n",
    "            \"anat_data_paths\": ['/kaggle/input/coregistered-anatomy/coregistered_outputs/sub-uu_smri_coregistered.nii'],\n",
    "            \"batch_size\": 2,\n",
    "            \"num_workers\": 4,\n",
    "        }\n",
    "    },\n",
    "    \"model\": {\n",
    "        \"which_model_G\": \"sr3\",\n",
    "        \"finetune_norm\": False,\n",
    "        \"unet\": {\n",
    "            \"in_channel\": 3,\n",
    "            \"out_channel\": 1,\n",
    "            \"inner_channel\": 32,\n",
    "            \"norm_groups\": 16,\n",
    "            \"channel_multiplier\": [1, 2, 4, 8],\n",
    "            \"attn_res\": [8],\n",
    "            \"res_blocks\": 1,\n",
    "            \"dropout\": 0.1\n",
    "        },\n",
    "        \"beta_schedule\": {\n",
    "            \"train\": {\n",
    "                \"schedule\": \"cosine\",\n",
    "                \"n_timestep\": 1000,\n",
    "                \"linear_start\": 1e-6,\n",
    "                \"linear_end\": 1e-2\n",
    "            },\n",
    "            \"test\": {\n",
    "                \"schedule\": \"cosine\",\n",
    "                \"n_timestep\": 1000,\n",
    "                \"linear_start\": 1e-6,\n",
    "                \"linear_end\": 1e-2\n",
    "            }\n",
    "        },\n",
    "        \"diffusion\": {\n",
    "            \"image_size\": 64,\n",
    "            \"channels\": 1,\n",
    "            \"conditional\": True\n",
    "        }\n",
    "    },\n",
    "    \"train\": {\n",
    "        \"n_iter\": 27000,\n",
    "        \"val_freq\": 1e4,\n",
    "        \"save_checkpoint_freq\": 1000,\n",
    "        \"print_freq\": 100,\n",
    "        \"accumulation_steps\": 2,\n",
    "        \"optimizer\": {\n",
    "            \"type\": \"adam\",\n",
    "            \"lr\": 5e-6\n",
    "        },\n",
    "        \"ema_scheduler\": {\n",
    "            \"step_start_ema\": 9000,\n",
    "            \"update_ema_every\": 10,\n",
    "            \"ema_decay\": 0.999\n",
    "        }\n",
    "    },\n",
    "    \"wandb\": {\n",
    "        \"project\": \"distributed_high_sr_ffhq\"\n",
    "    },\n",
    "    \"config_file\": \"config/sr_sr3_16_128.json\"  # from CLI\n",
    "}"
   ]
  },
  {
   "cell_type": "code",
   "execution_count": null,
   "id": "5918771c",
   "metadata": {
    "execution": {
     "iopub.execute_input": "2025-06-22T02:34:06.663854Z",
     "iopub.status.busy": "2025-06-22T02:34:06.663672Z",
     "iopub.status.idle": "2025-06-22T02:34:06.667916Z",
     "shell.execute_reply": "2025-06-22T02:34:06.667239Z"
    },
    "papermill": {
     "duration": 0.010534,
     "end_time": "2025-06-22T02:34:06.669076",
     "exception": false,
     "start_time": "2025-06-22T02:34:06.658542",
     "status": "completed"
    },
    "tags": []
   },
   "outputs": [],
   "source": [
    "os.makedirs(opt['path']['log'], exist_ok=True)\n",
    "os.makedirs(opt['path']['tb_logger'], exist_ok=True)\n",
    "os.makedirs(opt['path']['results'], exist_ok=True)\n",
    "os.makedirs(opt['path']['checkpoint'], exist_ok=True)"
   ]
  },
  {
   "cell_type": "markdown",
   "id": "189ec064",
   "metadata": {
    "papermill": {
     "duration": 0.004337,
     "end_time": "2025-06-22T02:34:06.677957",
     "exception": false,
     "start_time": "2025-06-22T02:34:06.673620",
     "status": "completed"
    },
    "tags": []
   },
   "source": [
    "Logger"
   ]
  },
  {
   "cell_type": "code",
   "execution_count": null,
   "id": "f9d6923c",
   "metadata": {
    "execution": {
     "iopub.execute_input": "2025-06-22T02:34:06.688198Z",
     "iopub.status.busy": "2025-06-22T02:34:06.687734Z",
     "iopub.status.idle": "2025-06-22T02:34:06.695587Z",
     "shell.execute_reply": "2025-06-22T02:34:06.695051Z"
    },
    "papermill": {
     "duration": 0.014241,
     "end_time": "2025-06-22T02:34:06.696623",
     "exception": false,
     "start_time": "2025-06-22T02:34:06.682382",
     "status": "completed"
    },
    "tags": []
   },
   "outputs": [],
   "source": [
    "# logging\n",
    "torch.backends.cudnn.enabled = True\n",
    "torch.backends.cudnn.benchmark = True\n",
    "\n",
    "def dict2str(opt, indent_l=1):\n",
    "    '''dict to string for logger'''\n",
    "    msg = ''\n",
    "    for k, v in opt.items():\n",
    "        if isinstance(v, dict):\n",
    "            msg += ' ' * (indent_l * 2) + k + ':[\\n'\n",
    "            msg += dict2str(v, indent_l + 1)\n",
    "            msg += ' ' * (indent_l * 2) + ']\\n'\n",
    "        else:\n",
    "            msg += ' ' * (indent_l * 2) + k + ': ' + str(v) + '\\n'\n",
    "    return msg\n",
    "\n",
    "def setup_logger(logger_name, root, phase, level=logging.INFO, screen=False):\n",
    "    '''set up logger'''\n",
    "    l = logging.getLogger(logger_name)\n",
    "    formatter = logging.Formatter(\n",
    "        '%(asctime)s.%(msecs)03d - %(levelname)s: %(message)s', datefmt='%y-%m-%d %H:%M:%S')\n",
    "    log_file = os.path.join(root, '{}.log'.format(phase))\n",
    "    fh = logging.FileHandler(log_file, mode='w')\n",
    "    fh.setFormatter(formatter)\n",
    "    l.setLevel(level)\n",
    "    l.addHandler(fh)\n",
    "    if screen:\n",
    "        sh = logging.StreamHandler()\n",
    "        sh.setFormatter(formatter)\n",
    "        l.addHandler(sh)\n",
    "\n",
    "\n",
    "setup_logger(None, opt['path']['log'],\n",
    "                    'train', level=logging.INFO, screen=True)\n",
    "setup_logger('val', opt['path']['log'], 'val', level=logging.INFO)\n",
    "logger = logging.getLogger('base')"
   ]
  },
  {
   "cell_type": "markdown",
   "id": "36e8c39c",
   "metadata": {
    "papermill": {
     "duration": 0.004336,
     "end_time": "2025-06-22T02:34:06.705738",
     "exception": false,
     "start_time": "2025-06-22T02:34:06.701402",
     "status": "completed"
    },
    "tags": []
   },
   "source": [
    "Dataset creation"
   ]
  },
  {
   "cell_type": "code",
   "execution_count": null,
   "id": "edb219e8",
   "metadata": {
    "execution": {
     "iopub.execute_input": "2025-06-22T02:34:06.715620Z",
     "iopub.status.busy": "2025-06-22T02:34:06.715400Z",
     "iopub.status.idle": "2025-06-22T02:34:06.722801Z",
     "shell.execute_reply": "2025-06-22T02:34:06.722117Z"
    },
    "papermill": {
     "duration": 0.013523,
     "end_time": "2025-06-22T02:34:06.723778",
     "exception": false,
     "start_time": "2025-06-22T02:34:06.710255",
     "status": "completed"
    },
    "tags": []
   },
   "outputs": [],
   "source": [
    "class PairwiseDataset(Dataset):\n",
    "    def __init__(self, noisy_images_paths: list, gt_images_paths: list, mask_images_paths: list, anat_images_paths: list):\n",
    "        \"\"\"Initialize fMRI dataset for denoising with memory-efficient loading.\"\"\"\n",
    "        self.noisy_paths = noisy_images_paths\n",
    "        self.gt_paths = gt_images_paths\n",
    "        self.mask_paths = mask_images_paths\n",
    "        self.anat_paths = anat_images_paths\n",
    "\n",
    "        # Pre-load the anatomy and mask volumes into a list in memory\n",
    "        self.anat_volumes = [nib.load(path).get_fdata() for path in anat_images_paths]\n",
    "        self.mask_volumes = [nib.load(path).get_fdata() for path in mask_images_paths]\n",
    "\n",
    "    \n",
    "        self.file_slice_mapping = []\n",
    "        for i, path in enumerate(noisy_images_paths):\n",
    "            data_shape = np.load(path, mmap_mode='r').shape\n",
    "            for t_idx in range(data_shape[3]):\n",
    "                self.file_slice_mapping.append((i, t_idx))\n",
    "        self.data_len = len(self.file_slice_mapping)\n",
    "\n",
    "    def __len__(self):\n",
    "        return self.data_len\n",
    "\n",
    "    def __getitem__(self, index):\n",
    "        file_idx, t_idx = self.file_slice_mapping[index]\n",
    "        \n",
    "        noisy_file_path = self.noisy_paths[file_idx]\n",
    "        gt_file_path = self.gt_paths[file_idx]\n",
    "        \n",
    "        noisy_volume = np.load(noisy_file_path, mmap_mode='r')\n",
    "        gt_volume = np.load(gt_file_path, mmap_mode='r')\n",
    "        mask_volume = self.mask_volumes[file_idx]\n",
    "        anat_volume = self.anat_volumes[file_idx]\n",
    "        \n",
    "        noisy_slice = noisy_volume[:, :, :, t_idx].copy()\n",
    "        gt_slice = gt_volume[:, :, :, t_idx].copy()\n",
    "        mask_slice = mask_volume.copy()\n",
    "        anat_slice = anat_volume.copy()\n",
    "\n",
    "        def to_tensor(data):\n",
    "            return torch.tensor(data).float().unsqueeze(0).permute(-1, 0, 1, 2)\n",
    "\n",
    "        return {\n",
    "            'GT': to_tensor(gt_slice),\n",
    "            'Noisy': to_tensor(noisy_slice),\n",
    "            'Mask': to_tensor(mask_slice),\n",
    "            'Anat': to_tensor(anat_slice),\n",
    "            'Index': index\n",
    "        }"
   ]
  },
  {
   "cell_type": "code",
   "execution_count": null,
   "id": "2103580c",
   "metadata": {
    "execution": {
     "iopub.execute_input": "2025-06-22T02:34:06.735331Z",
     "iopub.status.busy": "2025-06-22T02:34:06.734988Z",
     "iopub.status.idle": "2025-06-22T02:34:06.740054Z",
     "shell.execute_reply": "2025-06-22T02:34:06.739424Z"
    },
    "papermill": {
     "duration": 0.012946,
     "end_time": "2025-06-22T02:34:06.741231",
     "exception": false,
     "start_time": "2025-06-22T02:34:06.728285",
     "status": "completed"
    },
    "tags": []
   },
   "outputs": [],
   "source": [
    "def collate_merge_batches(batch):\n",
    "    \"\"\"Correctly concatenates tensors from a list of dictionaries.\"\"\"\n",
    "    return {\n",
    "        'Noisy': torch.cat([item['Noisy'] for item in batch], dim=0),\n",
    "        'GT': torch.cat([item['GT'] for item in batch], dim=0),\n",
    "        'Mask': torch.cat([item['Mask'] for item in batch], dim=0),\n",
    "        'Anat': torch.cat([item['Anat'] for item in batch], dim=0),\n",
    "        'Index': [item['Index'] for item in batch]\n",
    "    }\n",
    "\n",
    "def create_dataloader(dataset, dataset_opt, phase):\n",
    "    \"\"\"Creates dataloader for training or testing.\"\"\"\n",
    "    return torch.utils.data.DataLoader(\n",
    "        dataset,\n",
    "        batch_size=dataset_opt['batch_size'],\n",
    "        shuffle=dataset_opt.get('use_shuffle', False),\n",
    "        num_workers=dataset_opt.get('num_workers', 1),\n",
    "        pin_memory=True,\n",
    "        collate_fn=collate_merge_batches\n",
    "    )"
   ]
  },
  {
   "cell_type": "code",
   "execution_count": 8,
   "id": "74ea3b03",
   "metadata": {
    "execution": {
     "iopub.execute_input": "2025-06-22T02:34:06.751035Z",
     "iopub.status.busy": "2025-06-22T02:34:06.750671Z",
     "iopub.status.idle": "2025-06-22T02:34:07.055928Z",
     "shell.execute_reply": "2025-06-22T02:34:07.055194Z"
    },
    "papermill": {
     "duration": 0.311428,
     "end_time": "2025-06-22T02:34:07.057145",
     "exception": false,
     "start_time": "2025-06-22T02:34:06.745717",
     "status": "completed"
    },
    "tags": []
   },
   "outputs": [
    {
     "name": "stderr",
     "output_type": "stream",
     "text": [
      "25-06-22 02:34:06.968 - INFO: Training dataset with 900 instances created.\n"
     ]
    },
    {
     "name": "stderr",
     "output_type": "stream",
     "text": [
      "25-06-22 02:34:07.052 - INFO: Test dataset with 300 instances created.\n"
     ]
    }
   ],
   "source": [
    "# Create training dataset and dataloader\n",
    "train_set = PairwiseDataset(\n",
    "    opt['datasets']['train']['noisy_data_paths'], \n",
    "    opt['datasets']['train']['gt_data_paths'],\n",
    "    opt['datasets']['train']['mask_data_paths'],\n",
    "    opt['datasets']['train']['anat_data_paths']\n",
    ")\n",
    "train_loader = create_dataloader(train_set, opt['datasets']['train'], 'train')\n",
    "logger.info(f\"Training dataset with {len(train_set)} instances created.\")\n",
    "\n",
    "test_set = PairwiseDataset(\n",
    "    opt['datasets']['test']['noisy_data_paths'], \n",
    "    opt['datasets']['test']['gt_data_paths'],\n",
    "    opt['datasets']['test']['mask_data_paths'],\n",
    "    opt['datasets']['test']['anat_data_paths']\n",
    ")\n",
    "test_loader = create_dataloader(test_set, opt['datasets']['test'], 'test')\n",
    "logger.info(f\"Test dataset with {len(test_set)} instances created.\")"
   ]
  },
  {
   "cell_type": "code",
   "execution_count": 10,
   "id": "b61839c2",
   "metadata": {
    "execution": {
     "iopub.execute_input": "2025-06-22T02:34:07.083363Z",
     "iopub.status.busy": "2025-06-22T02:34:07.083115Z",
     "iopub.status.idle": "2025-06-22T02:34:40.831193Z",
     "shell.execute_reply": "2025-06-22T02:34:40.830560Z"
    },
    "papermill": {
     "duration": 33.754966,
     "end_time": "2025-06-22T02:34:40.832588",
     "exception": false,
     "start_time": "2025-06-22T02:34:07.077622",
     "status": "completed"
    },
    "tags": []
   },
   "outputs": [],
   "source": [
    "noisy_slice = train_set[400][\"Noisy\"]\n",
    "gt_slice = train_set[400][\"GT\"]"
   ]
  },
  {
   "cell_type": "code",
   "execution_count": null,
   "id": "489217f5",
   "metadata": {
    "execution": {
     "iopub.execute_input": "2025-06-22T02:34:40.868896Z",
     "iopub.status.busy": "2025-06-22T02:34:40.868613Z",
     "iopub.status.idle": "2025-06-22T02:34:41.340702Z",
     "shell.execute_reply": "2025-06-22T02:34:41.340056Z"
    },
    "papermill": {
     "duration": 0.481591,
     "end_time": "2025-06-22T02:34:41.341857",
     "exception": false,
     "start_time": "2025-06-22T02:34:40.860266",
     "status": "completed"
    },
    "tags": []
   },
   "outputs": [
    {
     "data": {
      "text/plain": [
       "<matplotlib.image.AxesImage at 0x7e0d907fcb10>"
      ]
     },
     "execution_count": 12,
     "metadata": {},
     "output_type": "execute_result"
    },
    {
     "data": {
      "image/png": "[encoded data removed]",
      "text/plain": [
       "<Figure size 1000x500 with 2 Axes>"
      ]
     },
     "metadata": {},
     "output_type": "display_data"
    }
   ],
   "source": [
    "# visualization of example slice\n",
    "fig, axes = plt.subplots(1, 2, figsize=(10, 5))\n",
    "\n",
    "# Plot ground truth image\n",
    "axes[0].imshow(noisy_slice[0,0,:,:], cmap='gray')\n",
    "axes[1].imshow(gt_slice[0,0,:,:], cmap='gray')"
   ]
  },
  {
   "cell_type": "markdown",
   "id": "1a42b93e",
   "metadata": {
    "papermill": {
     "duration": 0.005122,
     "end_time": "2025-06-22T02:34:41.352769",
     "exception": false,
     "start_time": "2025-06-22T02:34:41.347647",
     "status": "completed"
    },
    "tags": []
   },
   "source": [
    "### Model loading"
   ]
  },
  {
   "cell_type": "markdown",
   "id": "dd50c3fe",
   "metadata": {
    "papermill": {
     "duration": 0.00518,
     "end_time": "2025-06-22T02:34:41.363498",
     "exception": false,
     "start_time": "2025-06-22T02:34:41.358318",
     "status": "completed"
    },
    "tags": []
   },
   "source": [
    "Generic Functions"
   ]
  },
  {
   "cell_type": "code",
   "execution_count": 13,
   "id": "3ba4b52c",
   "metadata": {
    "execution": {
     "iopub.execute_input": "2025-06-22T02:34:41.374856Z",
     "iopub.status.busy": "2025-06-22T02:34:41.374654Z",
     "iopub.status.idle": "2025-06-22T02:34:41.378160Z",
     "shell.execute_reply": "2025-06-22T02:34:41.377650Z"
    },
    "papermill": {
     "duration": 0.010435,
     "end_time": "2025-06-22T02:34:41.379125",
     "exception": false,
     "start_time": "2025-06-22T02:34:41.368690",
     "status": "completed"
    },
    "tags": []
   },
   "outputs": [],
   "source": [
    "# generic functions\n",
    "def exists(x):\n",
    "    return x is not None\n",
    "\n",
    "\n",
    "def default(val, d):\n",
    "    if exists(val):\n",
    "        return val\n",
    "    return d() if isfunction(d) else d"
   ]
  },
  {
   "cell_type": "markdown",
   "id": "a80dc02c",
   "metadata": {},
   "source": [
    "U-Net"
   ]
  },
  {
   "cell_type": "code",
   "execution_count": null,
   "id": "c2f9f12b",
   "metadata": {
    "execution": {
     "iopub.execute_input": "2025-06-22T02:34:41.390904Z",
     "iopub.status.busy": "2025-06-22T02:34:41.390717Z",
     "iopub.status.idle": "2025-06-22T02:34:41.414503Z",
     "shell.execute_reply": "2025-06-22T02:34:41.413966Z"
    },
    "papermill": {
     "duration": 0.030967,
     "end_time": "2025-06-22T02:34:41.415552",
     "exception": false,
     "start_time": "2025-06-22T02:34:41.384585",
     "status": "completed"
    },
    "tags": []
   },
   "outputs": [],
   "source": [
    "# PositionalEncoding Source： https://github.com/lmnt-com/wavegrad/blob/master/src/wavegrad/model.py\n",
    "class PositionalEncoding(nn.Module):\n",
    "    def __init__(self, dim):\n",
    "        super().__init__()\n",
    "        self.dim = dim\n",
    "\n",
    "    def forward(self, noise_level):\n",
    "        count = self.dim // 2\n",
    "        step = torch.arange(count, dtype=noise_level.dtype,\n",
    "                            device=noise_level.device) / count\n",
    "        encoding = noise_level.unsqueeze(\n",
    "            1) * torch.exp(-math.log(1e4) * step.unsqueeze(0))\n",
    "        encoding = torch.cat(\n",
    "            [torch.sin(encoding), torch.cos(encoding)], dim=-1)\n",
    "        return encoding\n",
    "\n",
    "\n",
    "class FeatureWiseAffine(nn.Module):\n",
    "    def __init__(self, in_channels, out_channels, use_affine_level=False):\n",
    "        super(FeatureWiseAffine, self).__init__()\n",
    "        self.use_affine_level = use_affine_level\n",
    "        self.noise_func = nn.Sequential(\n",
    "            nn.Linear(in_channels, out_channels*(1+self.use_affine_level))\n",
    "        )\n",
    "\n",
    "    def forward(self, x, noise_embed):\n",
    "        batch = x.shape[0]\n",
    "        if self.use_affine_level:\n",
    "            gamma, beta = self.noise_func(noise_embed).view(\n",
    "                batch, -1, 1, 1).chunk(2, dim=1)\n",
    "            x = (1 + gamma) * x + beta\n",
    "        else:\n",
    "            x = x + self.noise_func(noise_embed).view(batch, -1, 1, 1)\n",
    "        return x\n",
    "\n",
    "\n",
    "class Swish(nn.Module):\n",
    "    def forward(self, x):\n",
    "        return x * torch.sigmoid(x)\n",
    "\n",
    "\n",
    "class Upsample(nn.Module):\n",
    "    def __init__(self, dim):\n",
    "        super().__init__()\n",
    "        self.up = nn.Upsample(scale_factor=2, mode=\"nearest\")\n",
    "        self.conv = nn.Conv2d(dim, dim, 3, padding=1)\n",
    "\n",
    "    def forward(self, x):\n",
    "        return self.conv(self.up(x))\n",
    "\n",
    "\n",
    "class Downsample(nn.Module):\n",
    "    def __init__(self, dim):\n",
    "        super().__init__()\n",
    "        self.conv = nn.Conv2d(dim, dim, 3, 2, 1)\n",
    "\n",
    "    def forward(self, x):\n",
    "        return self.conv(x)\n",
    "\n",
    "\n",
    "# building block modules\n",
    "\n",
    "class Block(nn.Module):\n",
    "    def __init__(self, dim, dim_out, groups=32, dropout=0):\n",
    "        super().__init__()\n",
    "        self.block = nn.Sequential(\n",
    "            nn.GroupNorm(groups, dim),\n",
    "            Swish(),\n",
    "            nn.Dropout(dropout) if dropout != 0 else nn.Identity(),\n",
    "            nn.Conv2d(dim, dim_out, 3, padding=1)\n",
    "        )\n",
    "\n",
    "    def forward(self, x):\n",
    "        return self.block(x)\n",
    "\n",
    "\n",
    "class ResnetBlock(nn.Module):\n",
    "    def __init__(self, dim, dim_out, noise_level_emb_dim=None, dropout=0, use_affine_level=False, norm_groups=32):\n",
    "        super().__init__()\n",
    "        self.noise_func = FeatureWiseAffine(\n",
    "            noise_level_emb_dim, dim_out, use_affine_level)\n",
    "\n",
    "        self.block1 = Block(dim, dim_out, groups=norm_groups)\n",
    "        self.block2 = Block(dim_out, dim_out, groups=norm_groups, dropout=dropout)\n",
    "        self.res_conv = nn.Conv2d(\n",
    "            dim, dim_out, 1) if dim != dim_out else nn.Identity()\n",
    "\n",
    "    def forward(self, x, time_emb):\n",
    "        b, c, h, w = x.shape\n",
    "        h = self.block1(x)\n",
    "        h = self.noise_func(h, time_emb)\n",
    "        h = self.block2(h)\n",
    "        return h + self.res_conv(x)\n",
    "\n",
    "\n",
    "class SelfAttention(nn.Module):\n",
    "    def __init__(self, in_channel, n_head=1, norm_groups=32):\n",
    "        super().__init__()\n",
    "\n",
    "        self.n_head = n_head\n",
    "\n",
    "        self.norm = nn.GroupNorm(norm_groups, in_channel)\n",
    "        self.qkv = nn.Conv2d(in_channel, in_channel * 3, 1, bias=False)\n",
    "        self.out = nn.Conv2d(in_channel, in_channel, 1)\n",
    "\n",
    "    def forward(self, input):\n",
    "        batch, channel, height, width = input.shape\n",
    "        n_head = self.n_head\n",
    "        head_dim = channel // n_head\n",
    "\n",
    "        norm = self.norm(input)\n",
    "        qkv = self.qkv(norm).view(batch, n_head, head_dim * 3, height, width)\n",
    "        query, key, value = qkv.chunk(3, dim=2)  # bhdyx\n",
    "\n",
    "        attn = torch.einsum(\n",
    "            \"bnchw, bncyx -> bnhwyx\", query, key\n",
    "        ).contiguous() / math.sqrt(channel)\n",
    "        attn = attn.view(batch, n_head, height, width, -1)\n",
    "        attn = torch.softmax(attn, -1)\n",
    "        attn = attn.view(batch, n_head, height, width, height, width)\n",
    "\n",
    "        out = torch.einsum(\"bnhwyx, bncyx -> bnchw\", attn, value).contiguous()\n",
    "        out = self.out(out.view(batch, channel, height, width))\n",
    "\n",
    "        return out + input\n",
    "\n",
    "\n",
    "class ResnetBlocWithAttn(nn.Module):\n",
    "    def __init__(self, dim, dim_out, *, noise_level_emb_dim=None, norm_groups=32, dropout=0, with_attn=False):\n",
    "        super().__init__()\n",
    "        self.with_attn = with_attn\n",
    "        self.res_block = ResnetBlock(\n",
    "            dim, dim_out, noise_level_emb_dim, norm_groups=norm_groups, dropout=dropout)\n",
    "        if with_attn:\n",
    "            self.attn = SelfAttention(dim_out, norm_groups=norm_groups)\n",
    "\n",
    "    def forward(self, x, time_emb):\n",
    "        x = self.res_block(x, time_emb)\n",
    "        if(self.with_attn):\n",
    "            x = self.attn(x)\n",
    "        return x\n",
    "\n",
    "\n",
    "class UNet(nn.Module):\n",
    "    def __init__(\n",
    "        self,\n",
    "        in_channel=6,\n",
    "        out_channel=3,\n",
    "        inner_channel=32,\n",
    "        norm_groups=32,\n",
    "        channel_mults=(1, 2, 4, 8, 8),\n",
    "        attn_res=(8),\n",
    "        res_blocks=3,\n",
    "        dropout=0,\n",
    "        with_noise_level_emb=True,\n",
    "        image_size=128\n",
    "    ):\n",
    "        super().__init__()\n",
    "\n",
    "        if with_noise_level_emb:\n",
    "            noise_level_channel = inner_channel\n",
    "            self.noise_level_mlp = nn.Sequential(\n",
    "                PositionalEncoding(inner_channel),\n",
    "                nn.Linear(inner_channel, inner_channel * 4),\n",
    "                Swish(),\n",
    "                nn.Linear(inner_channel * 4, inner_channel)\n",
    "            )\n",
    "        else:\n",
    "            noise_level_channel = None\n",
    "            self.noise_level_mlp = None\n",
    "\n",
    "        num_mults = len(channel_mults)\n",
    "        pre_channel = inner_channel\n",
    "        feat_channels = [pre_channel]\n",
    "        now_res = image_size\n",
    "        downs = [nn.Conv2d(in_channel, inner_channel,\n",
    "                           kernel_size=3, padding=1)]\n",
    "        for ind in range(num_mults):\n",
    "            is_last = (ind == num_mults - 1)\n",
    "            use_attn = (now_res in attn_res)\n",
    "            channel_mult = inner_channel * channel_mults[ind]\n",
    "            for _ in range(0, res_blocks):\n",
    "                downs.append(ResnetBlocWithAttn(\n",
    "                    pre_channel, channel_mult, noise_level_emb_dim=noise_level_channel, norm_groups=norm_groups, dropout=dropout, with_attn=use_attn))\n",
    "                feat_channels.append(channel_mult)\n",
    "                pre_channel = channel_mult\n",
    "            if not is_last:\n",
    "                downs.append(Downsample(pre_channel))\n",
    "                feat_channels.append(pre_channel)\n",
    "                now_res = now_res//2\n",
    "        self.downs = nn.ModuleList(downs)\n",
    "\n",
    "        self.mid = nn.ModuleList([\n",
    "            ResnetBlocWithAttn(pre_channel, pre_channel, noise_level_emb_dim=noise_level_channel, norm_groups=norm_groups,\n",
    "                               dropout=dropout, with_attn=True),\n",
    "            ResnetBlocWithAttn(pre_channel, pre_channel, noise_level_emb_dim=noise_level_channel, norm_groups=norm_groups,\n",
    "                               dropout=dropout, with_attn=False)\n",
    "        ])\n",
    "\n",
    "        ups = []\n",
    "        for ind in reversed(range(num_mults)):\n",
    "            is_last = (ind < 1)\n",
    "            use_attn = (now_res in attn_res)\n",
    "            channel_mult = inner_channel * channel_mults[ind]\n",
    "            for _ in range(0, res_blocks+1):\n",
    "                ups.append(ResnetBlocWithAttn(\n",
    "                    pre_channel+feat_channels.pop(), channel_mult, noise_level_emb_dim=noise_level_channel, norm_groups=norm_groups,\n",
    "                        dropout=dropout, with_attn=use_attn))\n",
    "                pre_channel = channel_mult\n",
    "            if not is_last:\n",
    "                ups.append(Upsample(pre_channel))\n",
    "                now_res = now_res*2\n",
    "\n",
    "        self.ups = nn.ModuleList(ups)\n",
    "\n",
    "        self.final_conv = Block(pre_channel, default(out_channel, in_channel), groups=norm_groups)\n",
    "\n",
    "    def forward(self, x, time):\n",
    "        t = self.noise_level_mlp(time) if exists(\n",
    "            self.noise_level_mlp) else None\n",
    "\n",
    "        feats = []\n",
    "    \n",
    "        \n",
    "        for layer in self.downs:\n",
    "            if isinstance(layer, ResnetBlocWithAttn):\n",
    "                x = layer(x, t)\n",
    "            else:\n",
    "                x = layer(x)\n",
    "            feats.append(x)\n",
    "\n",
    "        for layer in self.mid:\n",
    "            if isinstance(layer, ResnetBlocWithAttn):\n",
    "                x = layer(x, t)\n",
    "            else:\n",
    "                x = layer(x)\n",
    "\n",
    "        for layer in self.ups:\n",
    "            if isinstance(layer, ResnetBlocWithAttn):\n",
    "                x = layer(torch.cat((x, feats.pop()), dim=1), t)\n",
    "            else:\n",
    "                x = layer(x)\n",
    "\n",
    "        return self.final_conv(x)"
   ]
  },
  {
   "cell_type": "markdown",
   "id": "a4a05568",
   "metadata": {},
   "source": [
    "Diffusion"
   ]
  },
  {
   "cell_type": "code",
   "execution_count": null,
   "id": "7a813e2a",
   "metadata": {
    "execution": {
     "iopub.execute_input": "2025-06-22T02:34:41.427634Z",
     "iopub.status.busy": "2025-06-22T02:34:41.427449Z",
     "iopub.status.idle": "2025-06-22T02:34:41.449504Z",
     "shell.execute_reply": "2025-06-22T02:34:41.448904Z"
    },
    "papermill": {
     "duration": 0.029491,
     "end_time": "2025-06-22T02:34:41.450556",
     "exception": false,
     "start_time": "2025-06-22T02:34:41.421065",
     "status": "completed"
    },
    "tags": []
   },
   "outputs": [],
   "source": [
    "### Diffusion ###\n",
    "def _warmup_beta(linear_start, linear_end, n_timestep, warmup_frac):\n",
    "    betas = linear_end * np.ones(n_timestep, dtype=np.float64)\n",
    "    warmup_time = int(n_timestep * warmup_frac)\n",
    "    betas[:warmup_time] = np.linspace(\n",
    "        linear_start, linear_end, warmup_time, dtype=np.float64)\n",
    "    return betas\n",
    "\n",
    "\n",
    "def make_beta_schedule(schedule, n_timestep, linear_start=1e-4, linear_end=2e-2, cosine_s=8e-3):\n",
    "    if schedule == 'quad':\n",
    "        betas = np.linspace(linear_start ** 0.5, linear_end ** 0.5,\n",
    "                            n_timestep, dtype=np.float64) ** 2\n",
    "    elif schedule == 'linear':\n",
    "        betas = np.linspace(linear_start, linear_end,\n",
    "                            n_timestep, dtype=np.float64)\n",
    "    elif schedule == 'warmup10':\n",
    "        betas = _warmup_beta(linear_start, linear_end,\n",
    "                             n_timestep, 0.1)\n",
    "    elif schedule == 'warmup50':\n",
    "        betas = _warmup_beta(linear_start, linear_end,\n",
    "                             n_timestep, 0.5)\n",
    "    elif schedule == 'const':\n",
    "        betas = linear_end * np.ones(n_timestep, dtype=np.float64)\n",
    "    elif schedule == 'jsd':  # 1/T, 1/(T-1), 1/(T-2), ..., 1\n",
    "        betas = 1. / np.linspace(n_timestep,\n",
    "                                 1, n_timestep, dtype=np.float64)\n",
    "    elif schedule == \"cosine\":\n",
    "        timesteps = (\n",
    "            torch.arange(n_timestep + 1, dtype=torch.float64) /\n",
    "            n_timestep + cosine_s\n",
    "        )\n",
    "        alphas = timesteps / (1 + cosine_s) * math.pi / 2\n",
    "        alphas = torch.cos(alphas).pow(2)\n",
    "        alphas = alphas / alphas[0]\n",
    "        betas = 1 - alphas[1:] / alphas[:-1]\n",
    "        betas = betas.clamp(max=0.999)\n",
    "    else:\n",
    "        raise NotImplementedError(schedule)\n",
    "    return betas\n",
    "\n",
    "\n",
    "# gaussian diffusion trainer class\n",
    "class GaussianDiffusion(nn.Module):\n",
    "    def __init__(\n",
    "        self,\n",
    "        denoise_fn,\n",
    "        image_size,\n",
    "        channels=3,\n",
    "        loss_type='l1',\n",
    "        conditional=True,\n",
    "        schedule_opt=None\n",
    "    ):\n",
    "        super().__init__()\n",
    "        self.channels = channels\n",
    "        self.image_size = image_size\n",
    "        self.denoise_fn = denoise_fn\n",
    "        self.loss_type = loss_type\n",
    "        self.conditional = conditional\n",
    "        if schedule_opt is not None:\n",
    "            pass\n",
    "\n",
    "\n",
    "    def set_loss(self, device):\n",
    "        if self.loss_type == 'l1':\n",
    "            self.loss_func = nn.L1Loss(reduction='sum').to(device)\n",
    "        elif self.loss_type == 'l2':\n",
    "            self.loss_func = nn.MSELoss(reduction='sum').to(device)\n",
    "        else:\n",
    "            raise NotImplementedError()\n",
    "\n",
    "    def set_new_noise_schedule(self, schedule_opt, device):\n",
    "        to_torch = partial(torch.tensor, dtype=torch.float32, device=device)\n",
    "\n",
    "        betas = make_beta_schedule(\n",
    "            schedule=schedule_opt['schedule'],\n",
    "            n_timestep=schedule_opt['n_timestep'],\n",
    "            linear_start=schedule_opt['linear_start'],\n",
    "            linear_end=schedule_opt['linear_end'])\n",
    "        betas = betas.detach().cpu().numpy() if isinstance(\n",
    "            betas, torch.Tensor) else betas\n",
    "        alphas = 1. - betas\n",
    "        alphas_cumprod = np.cumprod(alphas, axis=0)\n",
    "        alphas_cumprod_prev = np.append(1., alphas_cumprod[:-1])\n",
    "\n",
    "        \n",
    "        sqrt_alphas_cumprod_prev_np = np.sqrt(np.append(1., alphas_cumprod))\n",
    "        self.register_buffer('sqrt_alphas_cumprod_prev', to_torch(sqrt_alphas_cumprod_prev_np))\n",
    "\n",
    "        timesteps, = betas.shape\n",
    "        self.num_timesteps = int(timesteps)\n",
    "        self.register_buffer('betas', to_torch(betas))\n",
    "        self.register_buffer('alphas_cumprod', to_torch(alphas_cumprod))\n",
    "        self.register_buffer('alphas_cumprod_prev',\n",
    "                             to_torch(alphas_cumprod_prev))\n",
    "\n",
    "        # calculations for diffusion q(x_t | x_{t-1}) and others\n",
    "        self.register_buffer('sqrt_alphas_cumprod',\n",
    "                             to_torch(np.sqrt(alphas_cumprod)))\n",
    "        self.register_buffer('sqrt_one_minus_alphas_cumprod',\n",
    "                             to_torch(np.sqrt(1. - alphas_cumprod)))\n",
    "        self.register_buffer('log_one_minus_alphas_cumprod',\n",
    "                             to_torch(np.log(1. - alphas_cumprod)))\n",
    "        self.register_buffer('sqrt_recip_alphas_cumprod',\n",
    "                             to_torch(np.sqrt(1. / alphas_cumprod)))\n",
    "        self.register_buffer('sqrt_recipm1_alphas_cumprod',\n",
    "                             to_torch(np.sqrt(1. / alphas_cumprod - 1)))\n",
    "\n",
    "        # calculations for posterior q(x_{t-1} | x_t, x_0)\n",
    "        posterior_variance = betas * \\\n",
    "            (1. - alphas_cumprod_prev) / (1. - alphas_cumprod)\n",
    "        # above: equal to 1. / (1. / (1. - alpha_cumprod_tm1) + alpha_t / beta_t)\n",
    "        self.register_buffer('posterior_variance',\n",
    "                             to_torch(posterior_variance))\n",
    "        # below: log calculation clipped because the posterior variance is 0 at the beginning of the diffusion chain\n",
    "        self.register_buffer('posterior_log_variance_clipped', to_torch(\n",
    "            np.log(np.maximum(posterior_variance, 1e-20))))\n",
    "        self.register_buffer('posterior_mean_coef1', to_torch(\n",
    "            betas * np.sqrt(alphas_cumprod_prev) / (1. - alphas_cumprod)))\n",
    "        self.register_buffer('posterior_mean_coef2', to_torch(\n",
    "            (1. - alphas_cumprod_prev) * np.sqrt(alphas) / (1. - alphas_cumprod)))\n",
    "\n",
    "    def predict_start_from_noise(self, x_t, t, noise):\n",
    "        return self.sqrt_recip_alphas_cumprod[t] * x_t - \\\n",
    "            self.sqrt_recipm1_alphas_cumprod[t] * noise\n",
    "\n",
    "    def q_posterior(self, x_start, x_t, t):\n",
    "        posterior_mean = self.posterior_mean_coef1[t] * \\\n",
    "            x_start + self.posterior_mean_coef2[t] * x_t\n",
    "        posterior_log_variance_clipped = self.posterior_log_variance_clipped[t]\n",
    "        return posterior_mean, posterior_log_variance_clipped\n",
    "\n",
    "    def p_mean_variance(self, x, t, clip_denoised: bool, condition_x=None):\n",
    "        batch_size = x.shape[0]\n",
    "        noise_level = torch.FloatTensor(\n",
    "            [self.sqrt_alphas_cumprod_prev[t+1]]).repeat(batch_size, 1).to(x.device)\n",
    "        if condition_x is not None:\n",
    "            x_recon = self.predict_start_from_noise(\n",
    "                x, t=t, noise=self.denoise_fn(torch.cat([condition_x, x], dim=1), noise_level))\n",
    "        else:\n",
    "            x_recon = self.predict_start_from_noise(\n",
    "                x, t=t, noise=self.denoise_fn(x, noise_level))\n",
    "\n",
    "        if clip_denoised:\n",
    "            x_recon.clamp_(-1., 1.)\n",
    "\n",
    "        model_mean, posterior_log_variance = self.q_posterior(\n",
    "            x_start=x_recon, x_t=x, t=t)\n",
    "        return model_mean, posterior_log_variance\n",
    "\n",
    "    @torch.no_grad()\n",
    "    def p_sample(self, x, t, clip_denoised=True, condition_x=None):\n",
    "        model_mean, model_log_variance = self.p_mean_variance(\n",
    "            x=x, t=t, clip_denoised=clip_denoised, condition_x=condition_x)\n",
    "        noise = torch.randn_like(x) if t > 0 else torch.zeros_like(x)\n",
    "        return model_mean + noise * (0.5 * model_log_variance).exp()\n",
    "\n",
    "    @torch.no_grad()\n",
    "    def p_sample_loop(self, x_in, continous=False):\n",
    "        device = self.betas.device\n",
    "        sample_inter = (1 | (self.num_timesteps//10))\n",
    "        if not self.conditional:\n",
    "            shape = x_in\n",
    "            img = torch.randn(shape, device=device)\n",
    "            ret_img = img\n",
    "            for i in tqdm(reversed(range(0, self.num_timesteps)), desc='sampling loop time step', total=self.num_timesteps):\n",
    "                img = self.p_sample(img, i)\n",
    "                if i % sample_inter == 0:\n",
    "                    ret_img = torch.cat([ret_img, img], dim=0)\n",
    "        else:\n",
    "            x = x_in\n",
    "            shape = x.shape\n",
    "            img = torch.randn(shape, device=device)\n",
    "            ret_img = x\n",
    "            for i in tqdm(reversed(range(0, self.num_timesteps)), desc='sampling loop time step', total=self.num_timesteps):\n",
    "                img = self.p_sample(img, i, condition_x=x)\n",
    "                if i % sample_inter == 0:\n",
    "                    ret_img = torch.cat([ret_img, img], dim=0)\n",
    "        if continous:\n",
    "            return ret_img\n",
    "        else:\n",
    "            return ret_img[-1]\n",
    "\n",
    "    @torch.no_grad()\n",
    "    def sample(self, batch_size=1, continous=False):\n",
    "        image_size = self.image_size\n",
    "        channels = self.channels\n",
    "        return self.p_sample_loop((batch_size, channels, image_size, image_size), continous)\n",
    "\n",
    "    @torch.no_grad()\n",
    "    def super_resolution(self, x_in, continous=False):\n",
    "        return self.p_sample_loop(x_in, continous)\n",
    "\n",
    "    \n",
    "    def q_sample(self, x_start, t, noise=None):\n",
    "        noise = default(noise, lambda: torch.randn_like(x_start))\n",
    "        return (self.sqrt_alphas_cumprod[t].view(-1, 1, 1, 1) * x_start +\n",
    "                self.sqrt_one_minus_alphas_cumprod[t].view(-1, 1, 1, 1) * noise)\n",
    "\n",
    "# In the GaussianDiffusion class\n",
    "    def p_losses(self, x_in, noise=None):\n",
    "        x_start, mask = x_in['GT'], x_in['Mask']\n",
    "        b, c, h, w = x_start.shape\n",
    "        t = torch.randint(0, self.num_timesteps, (b,), device=x_start.device).long()\n",
    "        noise = default(noise, lambda: torch.randn_like(x_start))\n",
    "        x_noisy = self.q_sample(x_start=x_start, t=t, noise=noise)\n",
    "        \n",
    "        if self.conditional:\n",
    "            anat = x_in['Anat']\n",
    "            # Ensure anatomy tensor is repeated to match the batch size\n",
    "            if anat.shape[0] != b:\n",
    "                anat = anat.repeat(b // anat.shape[0], 1, 1, 1)\n",
    "                \n",
    "            model_input = torch.cat([x_in['Noisy'], anat, x_noisy], dim=1)\n",
    "            x_recon = self.denoise_fn(model_input, t)\n",
    "        else:\n",
    "            x_recon = self.denoise_fn(x_noisy, t)\n",
    "        \n",
    "        if mask.shape[0] != b:\n",
    "            mask = mask.repeat(b // mask.shape[0], 1, 1, 1)\n",
    "        \n",
    "        loss = self.loss_func(noise * mask, x_recon * mask)\n",
    "        return loss\n",
    "\n",
    "    def forward(self, x, *args, **kwargs):\n",
    "        return self.p_losses(x, *args, **kwargs)"
   ]
  },
  {
   "cell_type": "markdown",
   "id": "f11202ea",
   "metadata": {
    "papermill": {
     "duration": 0.005767,
     "end_time": "2025-06-22T02:34:41.461728",
     "exception": false,
     "start_time": "2025-06-22T02:34:41.455961",
     "status": "completed"
    },
    "tags": []
   },
   "source": [
    "Helper functions"
   ]
  },
  {
   "cell_type": "code",
   "execution_count": null,
   "id": "8bf3899f",
   "metadata": {
    "execution": {
     "iopub.execute_input": "2025-06-22T02:34:41.473826Z",
     "iopub.status.busy": "2025-06-22T02:34:41.473648Z",
     "iopub.status.idle": "2025-06-22T02:34:41.484508Z",
     "shell.execute_reply": "2025-06-22T02:34:41.483994Z"
    },
    "papermill": {
     "duration": 0.018047,
     "end_time": "2025-06-22T02:34:41.485471",
     "exception": false,
     "start_time": "2025-06-22T02:34:41.467424",
     "status": "completed"
    },
    "tags": []
   },
   "outputs": [],
   "source": [
    "def weights_init_normal(m, std=0.02):\n",
    "    classname = m.__class__.__name__\n",
    "    if classname.find('Conv') != -1:\n",
    "        init.normal_(m.weight.data, 0.0, std)\n",
    "        if m.bias is not None:\n",
    "            m.bias.data.zero_()\n",
    "    elif classname.find('Linear') != -1:\n",
    "        init.normal_(m.weight.data, 0.0, std)\n",
    "        if m.bias is not None:\n",
    "            m.bias.data.zero_()\n",
    "    elif classname.find('BatchNorm2d') != -1:\n",
    "        init.normal_(m.weight.data, 1.0, std)\n",
    "        init.constant_(m.bias.data, 0.0)\n",
    "\n",
    "\n",
    "def weights_init_kaiming(m, scale=1):\n",
    "    classname = m.__class__.__name__\n",
    "    if classname.find('Conv2d') != -1:\n",
    "        init.kaiming_normal_(m.weight.data, a=0, mode='fan_in')\n",
    "        m.weight.data *= scale\n",
    "        if m.bias is not None:\n",
    "            m.bias.data.zero_()\n",
    "    elif classname.find('Linear') != -1:\n",
    "        init.kaiming_normal_(m.weight.data, a=0, mode='fan_in')\n",
    "        m.weight.data *= scale\n",
    "        if m.bias is not None:\n",
    "            m.bias.data.zero_()\n",
    "    elif classname.find('BatchNorm2d') != -1:\n",
    "        init.constant_(m.weight.data, 1.0)\n",
    "        init.constant_(m.bias.data, 0.0)\n",
    "\n",
    "\n",
    "def weights_init_orthogonal(m):\n",
    "    classname = m.__class__.__name__\n",
    "    if classname.find('Conv') != -1:\n",
    "        init.orthogonal_(m.weight.data, gain=1)\n",
    "        if m.bias is not None:\n",
    "            m.bias.data.zero_()\n",
    "    elif classname.find('Linear') != -1:\n",
    "        init.orthogonal_(m.weight.data, gain=1)\n",
    "        if m.bias is not None:\n",
    "            m.bias.data.zero_()\n",
    "    elif classname.find('BatchNorm2d') != -1:\n",
    "        init.constant_(m.weight.data, 1.0)\n",
    "        init.constant_(m.bias.data, 0.0)\n",
    "\n",
    "\n",
    "def init_weights(net, init_type='kaiming', scale=1, std=0.02):\n",
    "    logger.info('Initialization method [{:s}]'.format(init_type))\n",
    "    if init_type == 'normal':\n",
    "        weights_init_normal_ = functools.partial(weights_init_normal, std=std)\n",
    "        net.apply(weights_init_normal_)\n",
    "    elif init_type == 'kaiming':\n",
    "        weights_init_kaiming_ = functools.partial(\n",
    "            weights_init_kaiming, scale=scale)\n",
    "        net.apply(weights_init_kaiming_)\n",
    "    elif init_type == 'orthogonal':\n",
    "        net.apply(weights_init_orthogonal)\n",
    "    else:\n",
    "        raise NotImplementedError(\n",
    "            'initialization method [{:s}] not implemented'.format(init_type))"
   ]
  },
  {
   "cell_type": "markdown",
   "id": "c583fb41",
   "metadata": {},
   "source": [
    "Network Definition"
   ]
  },
  {
   "cell_type": "code",
   "execution_count": null,
   "id": "d00e5e96",
   "metadata": {},
   "outputs": [],
   "source": [
    "# Generator\n",
    "def define_G(opt):\n",
    "    model_opt = opt['model']\n",
    "    if ('norm_groups' not in model_opt['unet']) or model_opt['unet']['norm_groups'] is None:\n",
    "        model_opt['unet']['norm_groups']=32\n",
    "    model = UNet(\n",
    "        in_channel=model_opt['unet']['in_channel'],\n",
    "        out_channel=model_opt['unet']['out_channel'],\n",
    "        norm_groups=model_opt['unet']['norm_groups'],\n",
    "        inner_channel=model_opt['unet']['inner_channel'],\n",
    "        channel_mults=model_opt['unet']['channel_multiplier'],\n",
    "        attn_res=model_opt['unet']['attn_res'],\n",
    "        res_blocks=model_opt['unet']['res_blocks'],\n",
    "        dropout=model_opt['unet']['dropout'],\n",
    "        image_size=model_opt['diffusion']['image_size']\n",
    "    )\n",
    "    netG = GaussianDiffusion(\n",
    "        model,\n",
    "        image_size=model_opt['diffusion']['image_size'],\n",
    "        channels=model_opt['diffusion']['channels'],\n",
    "        loss_type='l2',    # L1 or L2\n",
    "        conditional=model_opt['diffusion']['conditional'],\n",
    "        schedule_opt=model_opt['beta_schedule']['train']\n",
    "    )\n",
    "    if opt['phase'] == 'train':\n",
    "        # init_weights(netG, init_type='kaiming', scale=0.1)\n",
    "        init_weights(netG, init_type='orthogonal')\n",
    "    if opt['gpu_ids']:\n",
    "        assert torch.cuda.is_available()\n",
    "    # if opt['gpu_ids'] and opt['distributed']:\n",
    "    #     assert torch.cuda.is_available()\n",
    "    #     netG = nn.DataParallel(netG)\n",
    "    return netG"
   ]
  },
  {
   "cell_type": "markdown",
   "id": "a5542433",
   "metadata": {
    "papermill": {
     "duration": 0.006023,
     "end_time": "2025-06-22T02:34:41.497430",
     "exception": false,
     "start_time": "2025-06-22T02:34:41.491407",
     "status": "completed"
    },
    "tags": []
   },
   "source": [
    "Model class"
   ]
  },
  {
   "cell_type": "code",
   "execution_count": null,
   "id": "8b81df48",
   "metadata": {
    "execution": {
     "iopub.execute_input": "2025-06-22T02:34:41.509488Z",
     "iopub.status.busy": "2025-06-22T02:34:41.509311Z",
     "iopub.status.idle": "2025-06-22T02:34:41.538431Z",
     "shell.execute_reply": "2025-06-22T02:34:41.537824Z"
    },
    "papermill": {
     "duration": 0.036618,
     "end_time": "2025-06-22T02:34:41.539648",
     "exception": false,
     "start_time": "2025-06-22T02:34:41.503030",
     "status": "completed"
    },
    "tags": []
   },
   "outputs": [],
   "source": [
    "class SR3():\n",
    "    def __init__(self, opt):       \n",
    "        self.opt = opt\n",
    "        self.device = torch.device(\n",
    "            'cuda' if opt['gpu_ids'] is not None else 'cpu')\n",
    "\n",
    "        # mixed precision training\n",
    "        self.scaler = GradScaler()\n",
    "        \n",
    "        self.begin_step = 0\n",
    "        self.begin_epoch = 0\n",
    "        \n",
    "        # define network and load pretrained models\n",
    "        self.netG = self.set_device(define_G(opt))\n",
    "        self.schedule_phase = None\n",
    "        \n",
    "        # EMA implementation\n",
    "        self.netG_EMA = copy.deepcopy(self.netG)\n",
    "        self.netG_EMA.eval()\n",
    "        for p in self.netG_EMA.parameters():\n",
    "            p.requires_grad = False\n",
    "\n",
    "        # EMA parameters from config\n",
    "        self.ema_scheduler = self.opt['train']['ema_scheduler']\n",
    "        self.ema_decay = self.ema_scheduler['ema_decay']\n",
    "        self.step_start_ema = self.ema_scheduler['step_start_ema']\n",
    "        self.update_ema_every = self.ema_scheduler['update_ema_every']\n",
    "        \n",
    "        # set loss and load resume state\n",
    "        self.set_loss()\n",
    "        self.set_new_noise_schedule(\n",
    "            opt['model']['beta_schedule']['train'], schedule_phase='train')\n",
    "        if self.opt['phase'] == 'train':\n",
    "            self.netG.train()\n",
    "\n",
    "            if opt['model']['finetune_norm']:\n",
    "                optim_params = []\n",
    "                for k, v in self.netG.named_parameters():\n",
    "                    v.requires_grad = False\n",
    "                    if k.find('transformer') >= 0:\n",
    "                        v.requires_grad = True\n",
    "                        v.data.zero_()\n",
    "                        optim_params.append(v)\n",
    "                        logger.info(\n",
    "                            'Params [{:s}] initialized to 0 and will optimize.'.format(k))\n",
    "            else:\n",
    "                optim_params = list(self.netG.parameters())\n",
    "\n",
    "\n",
    "            try:\n",
    "                self.optG = torch.optim.Adam(\n",
    "                    optim_params, lr=opt['train'][\"optimizer\"][\"lr\"], fused=True\n",
    "                )\n",
    "                logger.info(\"Using fused Adam optimizer for potential speedup.\")\n",
    "            except:\n",
    "                self.optG = torch.optim.Adam(\n",
    "                    optim_params, lr=opt['train'][\"optimizer\"][\"lr\"]\n",
    "                )\n",
    "\n",
    "\n",
    "            #learning rate scheduler\n",
    "            self.schedulerG = lr_scheduler.CosineAnnealingLR(\n",
    "                self.optG, T_max=self.opt['train']['n_iter'], eta_min=1e-6)\n",
    "            \n",
    "            self.log_dict = OrderedDict()\n",
    "            \n",
    "        self.load_network()\n",
    "        self.print_network()\n",
    "\n",
    "    def set_device(self, x):\n",
    "        if isinstance(x, dict):\n",
    "            for key, item in x.items():\n",
    "                if item is not None and type(item)==torch.Tensor:\n",
    "                    x[key] = item.to(self.device)\n",
    "        elif isinstance(x, list):\n",
    "            for item in x:\n",
    "                if item is not None:\n",
    "                    item = item.to(self.device)\n",
    "        else:\n",
    "            x = x.to(self.device)\n",
    "        return x\n",
    "\n",
    "    def get_network_description(self, network):\n",
    "        '''Get the string and total parameters of the network'''\n",
    "        if isinstance(network, nn.DataParallel):\n",
    "            network = network.module\n",
    "        s = str(network)\n",
    "        n = sum(map(lambda x: x.numel(), network.parameters()))\n",
    "        return s, n\n",
    "\n",
    "    def feed_data(self, data):\n",
    "        self.data = self.set_device(data)\n",
    "\n",
    "    def optimize_parameters(self, current_step):\n",
    "        self.optG.zero_grad()\n",
    "\n",
    "        # mixed precision\n",
    "        with torch.cuda.amp.autocast():\n",
    "            l_pix = self.netG(self.data)\n",
    "            b, c, h, w = self.data['GT'].shape\n",
    "            l_pix = l_pix.sum()/int(b*c*h*w)\n",
    "\n",
    "        self.scaler.scale(l_pix).backward()\n",
    "\n",
    "        self.scaler.unscale_(self.optG)\n",
    "        torch.nn.utils.clip_grad_norm_(self.netG.parameters(), max_norm=1.0)\n",
    "\n",
    "        self.scaler.step(self.optG)\n",
    "        self.scaler.update()  \n",
    "\n",
    "        self._update_ema(current_step)\n",
    "        \n",
    "        #scheduler step\n",
    "        self.schedulerG.step()\n",
    "\n",
    "        # set log\n",
    "        self.log_dict['l_pix'] = l_pix.item()\n",
    "\n",
    "        return l_pix.item()\n",
    "\n",
    "    def evaluate_loss(self, data):\n",
    "        \"\"\"Calculates the diffusion loss using the EMA model.\"\"\"\n",
    "        self.netG_EMA.eval()\n",
    "        with torch.no_grad():\n",
    "            self.feed_data(data)\n",
    "            with torch.cuda.amp.autocast():\n",
    "                l_pix = self.netG_EMA(self.data) \n",
    "                b, c, h, w = self.data['GT'].shape\n",
    "                l_pix = l_pix.sum() / int(b * c * h * w)\n",
    "        \n",
    "        return l_pix.item()\n",
    "    \n",
    "    def test(self, continous=False):\n",
    "        self.netG_EMA.eval()\n",
    "        with torch.no_grad():\n",
    "            if isinstance(self.netG_EMA, nn.DataParallel):\n",
    "                self.SR = self.netG_EMA.module.super_resolution(\n",
    "                    self.data['SR'], continous)\n",
    "            else:\n",
    "                self.SR = self.netG_EMA.super_resolution(\n",
    "                    self.data['SR'], continous)\n",
    "\n",
    "    def sample(self, batch_size=1, continous=False):\n",
    "        self.netG.eval()\n",
    "        with torch.no_grad():\n",
    "            if isinstance(self.netG, nn.DataParallel):\n",
    "                self.SR = self.netG.module.sample(batch_size, continous)\n",
    "            else:\n",
    "                self.SR = self.netG.sample(batch_size, continous)\n",
    "        self.netG.train()\n",
    "\n",
    "    def set_loss(self):\n",
    "        if isinstance(self.netG, nn.DataParallel):\n",
    "            self.netG.module.set_loss(self.device)\n",
    "        else:\n",
    "            self.netG.set_loss(self.device)\n",
    "\n",
    "    def set_new_noise_schedule(self, schedule_opt, schedule_phase='train'):\n",
    "        if self.schedule_phase is None or self.schedule_phase != schedule_phase:\n",
    "            self.schedule_phase = schedule_phase\n",
    "            \n",
    "            if isinstance(self.netG, nn.DataParallel):\n",
    "                self.netG.module.set_new_noise_schedule(\n",
    "                    schedule_opt, self.device)\n",
    "            else:\n",
    "                self.netG.set_new_noise_schedule(schedule_opt, self.device)\n",
    "                \n",
    "            if isinstance(self.netG_EMA, nn.DataParallel):\n",
    "                self.netG_EMA.module.set_new_noise_schedule(\n",
    "                    schedule_opt, self.device)\n",
    "            else:\n",
    "                self.netG_EMA.set_new_noise_schedule(schedule_opt, self.device)\n",
    "\n",
    "\n",
    "    def _update_ema(self, current_step):\n",
    "        netG_for_state_dict = self.netG._orig_mod if hasattr(self.netG, '_orig_mod') else self.netG\n",
    "    \n",
    "        if current_step < self.step_start_ema:\n",
    "            self.netG_EMA.load_state_dict(netG_for_state_dict.state_dict())\n",
    "            return\n",
    "    \n",
    "        if current_step % self.update_ema_every == 0:\n",
    "            with torch.no_grad():\n",
    "                ema_params = self.netG_EMA.state_dict()\n",
    "                model_params = netG_for_state_dict.state_dict()\n",
    "                \n",
    "                for key in model_params:\n",
    "                    if key in ema_params:\n",
    "                        ema_params[key].mul_(self.ema_decay).add_(model_params[key], alpha=1 - self.ema_decay)\n",
    "\n",
    "                \n",
    "    def get_current_log(self):\n",
    "        return self.log_dict\n",
    "\n",
    "    def get_current_visuals(self, need_LR=True, sample=False):\n",
    "        out_dict = OrderedDict()\n",
    "        if sample:\n",
    "            out_dict['SAM'] = self.SR.detach().float().cpu()\n",
    "        else:\n",
    "            out_dict['SR'] = self.SR.detach().float().cpu()\n",
    "            out_dict['INF'] = self.data['SR'].detach().float().cpu()\n",
    "            out_dict['HR'] = self.data['HR'].detach().float().cpu()\n",
    "            if need_LR and 'LR' in self.data:\n",
    "                out_dict['LR'] = self.data['LR'].detach().float().cpu()\n",
    "            else:\n",
    "                out_dict['LR'] = out_dict['INF']\n",
    "        return out_dict\n",
    "\n",
    "    def print_network(self):\n",
    "        s, n = self.get_network_description(self.netG)\n",
    "        if isinstance(self.netG, nn.DataParallel):\n",
    "            net_struc_str = '{} - {}'.format(self.netG.__class__.__name__,\n",
    "                                             self.netG.module.__class__.__name__)\n",
    "        else:\n",
    "            net_struc_str = '{}'.format(self.netG.__class__.__name__)\n",
    "\n",
    "        logger.info(\n",
    "            'Network G structure: {}, with parameters: {:,d}'.format(net_struc_str, n))\n",
    "        logger.info(s)\n",
    "\n",
    "\n",
    "    def save_network(self, epoch, iter_step, is_final=False):\n",
    "        if is_final:\n",
    "            gen_path = os.path.join(\n",
    "                self.opt['path']['checkpoint'], 'Final_I{}_E{}_gen.pth'.format(iter_step, epoch))\n",
    "            ema_gen_path = os.path.join(\n",
    "                self.opt['path']['checkpoint'], 'Final_I{}_E{}_gen_ema.pth'.format(iter_step, epoch)) # EMA path\n",
    "            opt_path = os.path.join(\n",
    "                self.opt['path']['checkpoint'], 'Final_I{}_E{}_opt.pth'.format(iter_step, epoch))\n",
    "        else:\n",
    "            gen_path = os.path.join(\n",
    "                self.opt['path']['checkpoint'], 'I{}_E{}_gen.pth'.format(iter_step, epoch))\n",
    "            ema_gen_path = os.path.join(\n",
    "                self.opt['path']['checkpoint'], 'I{}_E{}_gen_ema.pth'.format(iter_step, epoch)) # EMA path\n",
    "            opt_path = os.path.join(\n",
    "                self.opt['path']['checkpoint'], 'I{}_E{}_opt.pth'.format(iter_step, epoch))\n",
    "        \n",
    "\n",
    "        network = self.netG\n",
    "        if isinstance(self.netG, nn.DataParallel):\n",
    "            network = network.module\n",
    "        state_dict = network.state_dict()\n",
    "        for key, param in state_dict.items():\n",
    "            state_dict[key] = param.cpu()\n",
    "        torch.save(state_dict, gen_path)\n",
    "\n",
    "        network_ema = self.netG_EMA\n",
    "        if isinstance(self.netG_EMA, nn.DataParallel):\n",
    "            network_ema = network_ema.module\n",
    "        state_dict_ema = network_ema.state_dict()\n",
    "        for key, param in state_dict_ema.items():\n",
    "            state_dict_ema[key] = param.cpu()\n",
    "        torch.save(state_dict_ema, ema_gen_path)\n",
    "\n",
    "        opt_state = {'epoch': epoch, 'iter': iter_step,\n",
    "                     'scheduler': None, 'optimizer': None}\n",
    "        opt_state['optimizer'] = self.optG.state_dict()\n",
    "        torch.save(opt_state, opt_path)\n",
    "\n",
    "        logger.info(\n",
    "            'Saved model in [{:s}] and EMA model in [{:s}] ...'.format(gen_path, ema_gen_path))\n",
    "\n",
    "    def load_network(self):\n",
    "        load_path = self.opt['path']['resume_state']\n",
    "        if load_path is not None:\n",
    "            logger.info(\n",
    "                'Loading pretrained model for G [{:s}] ...'.format(load_path))\n",
    "            gen_path = '{}_gen.pth'.format(load_path)\n",
    "            ema_gen_path = '{}_gen_ema.pth'.format(load_path) # EMA path\n",
    "            opt_path = '{}_opt.pth'.format(load_path)\n",
    "            \n",
    "            network = self.netG\n",
    "            if isinstance(self.netG, nn.DataParallel):\n",
    "                network = network.module\n",
    "            network.load_state_dict(torch.load(\n",
    "                gen_path), strict=(not self.opt['model']['finetune_norm']))\n",
    "\n",
    "            if os.path.exists(ema_gen_path):\n",
    "                logger.info('Loading EMA model from [{:s}]...'.format(ema_gen_path))\n",
    "                network_ema = self.netG_EMA\n",
    "                if isinstance(self.netG_EMA, nn.DataParallel):\n",
    "                    network_ema = network_ema.module\n",
    "                network_ema.load_state_dict(torch.load(\n",
    "                    ema_gen_path), strict=(not self.opt['model']['finetune_norm']))\n",
    "            else:\n",
    "                logger.info('No EMA model found. Initializing EMA model with generator weights.')\n",
    "                self.netG_EMA.load_state_dict(network.state_dict())\n",
    "\n",
    "            if self.opt['phase'] == 'train':\n",
    "                opt = torch.load(opt_path)\n",
    "                self.optG.load_state_dict(opt['optimizer'])\n",
    "                self.begin_step = opt['iter']\n",
    "                self.begin_epoch = opt['epoch']"
   ]
  },
  {
   "cell_type": "markdown",
   "id": "8c2a1d7f",
   "metadata": {
    "papermill": {
     "duration": 0.00625,
     "end_time": "2025-06-22T02:34:41.552373",
     "exception": false,
     "start_time": "2025-06-22T02:34:41.546123",
     "status": "completed"
    },
    "tags": []
   },
   "source": [
    "Training process"
   ]
  },
  {
   "cell_type": "code",
   "execution_count": null,
   "id": "491bc4c6",
   "metadata": {
    "execution": {
     "iopub.execute_input": "2025-06-22T02:34:45.415090Z",
     "iopub.status.busy": "2025-06-22T02:34:45.414623Z"
    },
    "papermill": {
     "duration": null,
     "end_time": null,
     "exception": false,
     "start_time": "2025-06-22T02:34:45.407629",
     "status": "running"
    },
    "tags": []
   },
   "outputs": [
    {
     "name": "stderr",
     "output_type": "stream",
     "text": [
      "25-06-22 02:34:45.421 - INFO: Using gradient accumulation with 2 steps.\n"
     ]
    },
    {
     "name": "stderr",
     "output_type": "stream",
     "text": [
      "/tmp/ipykernel_19/2853584465.py:34: FutureWarning: `torch.cuda.amp.autocast(args...)` is deprecated. Please use `torch.amp.autocast('cuda', args...)` instead.\n",
      "  with torch.cuda.amp.autocast(dtype=torch.bfloat16):\n"
     ]
    },
    {
     "name": "stderr",
     "output_type": "stream",
     "text": [
      "/tmp/ipykernel_19/2853584465.py:34: FutureWarning: `torch.cuda.amp.autocast(args...)` is deprecated. Please use `torch.amp.autocast('cuda', args...)` instead.\n",
      "  with torch.cuda.amp.autocast(dtype=torch.bfloat16):\n"
     ]
    },
    {
     "name": "stderr",
     "output_type": "stream",
     "text": [
      "25-06-22 02:48:45.224 - INFO: <epoch:  1, iter:     100> l_pix: 2.7150e-01\n"
     ]
    },
    {
     "name": "stderr",
     "output_type": "stream",
     "text": [
      "25-06-22 03:01:21.809 - INFO: <epoch:  1, iter:     200> l_pix: 2.7272e-01\n"
     ]
    },
    {
     "name": "stderr",
     "output_type": "stream",
     "text": [
      "25-06-22 03:13:58.406 - INFO: <epoch:  1, iter:     300> l_pix: 2.6875e-01\n"
     ]
    },
    {
     "name": "stderr",
     "output_type": "stream",
     "text": [
      "25-06-22 03:26:35.124 - INFO: <epoch:  1, iter:     400> l_pix: 2.6341e-01\n"
     ]
    },
    {
     "name": "stderr",
     "output_type": "stream",
     "text": [
      "25-06-22 03:32:53.475 - INFO: Epoch 1 Average Loss: 0.2737178514401118\n"
     ]
    },
    {
     "name": "stderr",
     "output_type": "stream",
     "text": [
      "25-06-22 03:39:13.504 - INFO: <epoch:  2, iter:     500> l_pix: 2.5939e-01\n"
     ]
    },
    {
     "name": "stderr",
     "output_type": "stream",
     "text": [
      "25-06-22 03:51:50.235 - INFO: <epoch:  2, iter:     600> l_pix: 2.6986e-01\n"
     ]
    },
    {
     "name": "stderr",
     "output_type": "stream",
     "text": [
      "25-06-22 04:04:26.870 - INFO: <epoch:  2, iter:     700> l_pix: 2.5299e-01\n"
     ]
    },
    {
     "name": "stderr",
     "output_type": "stream",
     "text": [
      "25-06-22 04:17:03.517 - INFO: <epoch:  2, iter:     800> l_pix: 2.6511e-01\n"
     ]
    },
    {
     "name": "stderr",
     "output_type": "stream",
     "text": [
      "25-06-22 04:29:40.063 - INFO: <epoch:  2, iter:     900> l_pix: 2.5139e-01\n"
     ]
    },
    {
     "name": "stderr",
     "output_type": "stream",
     "text": [
      "25-06-22 04:29:40.127 - INFO: Epoch 2 Average Loss: 0.2640072614616818\n"
     ]
    },
    {
     "name": "stderr",
     "output_type": "stream",
     "text": [
      "25-06-22 04:42:18.148 - INFO: <epoch:  3, iter:   1,000> l_pix: 2.6491e-01\n"
     ]
    },
    {
     "name": "stderr",
     "output_type": "stream",
     "text": [
      "25-06-22 04:42:18.150 - INFO: Saving models and training states.\n"
     ]
    },
    {
     "name": "stderr",
     "output_type": "stream",
     "text": [
      "25-06-22 04:42:18.501 - INFO: Saved model in [/kaggle/working/checkpoint/I1000_E3_gen.pth] and EMA model in [/kaggle/working/checkpoint/I1000_E3_gen_ema.pth] ...\n"
     ]
    },
    {
     "name": "stderr",
     "output_type": "stream",
     "text": [
      "25-06-22 04:54:55.178 - INFO: <epoch:  3, iter:   1,100> l_pix: 2.5679e-01\n"
     ]
    },
    {
     "name": "stderr",
     "output_type": "stream",
     "text": [
      "25-06-22 05:07:31.777 - INFO: <epoch:  3, iter:   1,200> l_pix: 2.5581e-01\n"
     ]
    },
    {
     "name": "stderr",
     "output_type": "stream",
     "text": [
      "25-06-22 05:20:08.436 - INFO: <epoch:  3, iter:   1,300> l_pix: 2.7588e-01\n"
     ]
    },
    {
     "name": "stderr",
     "output_type": "stream",
     "text": [
      "25-06-22 05:26:27.148 - INFO: Epoch 3 Average Loss: 0.2633273843924204\n"
     ]
    },
    {
     "name": "stderr",
     "output_type": "stream",
     "text": [
      "25-06-22 05:32:46.657 - INFO: <epoch:  4, iter:   1,400> l_pix: 2.6508e-01\n"
     ]
    },
    {
     "name": "stderr",
     "output_type": "stream",
     "text": [
      "25-06-22 05:45:23.297 - INFO: <epoch:  4, iter:   1,500> l_pix: 2.6919e-01\n"
     ]
    },
    {
     "name": "stderr",
     "output_type": "stream",
     "text": [
      "25-06-22 05:58:00.002 - INFO: <epoch:  4, iter:   1,600> l_pix: 2.6447e-01\n"
     ]
    },
    {
     "name": "stderr",
     "output_type": "stream",
     "text": [
      "25-06-22 06:10:36.555 - INFO: <epoch:  4, iter:   1,700> l_pix: 2.6456e-01\n"
     ]
    },
    {
     "name": "stderr",
     "output_type": "stream",
     "text": [
      "25-06-22 06:23:13.097 - INFO: <epoch:  4, iter:   1,800> l_pix: 2.5606e-01\n"
     ]
    },
    {
     "name": "stderr",
     "output_type": "stream",
     "text": [
      "25-06-22 06:23:13.148 - INFO: Epoch 4 Average Loss: 0.263101853662067\n"
     ]
    },
    {
     "name": "stderr",
     "output_type": "stream",
     "text": [
      "25-06-22 06:35:50.913 - INFO: <epoch:  5, iter:   1,900> l_pix: 2.6765e-01\n"
     ]
    },
    {
     "name": "stderr",
     "output_type": "stream",
     "text": [
      "25-06-22 06:48:27.612 - INFO: <epoch:  5, iter:   2,000> l_pix: 2.6845e-01\n"
     ]
    },
    {
     "name": "stderr",
     "output_type": "stream",
     "text": [
      "25-06-22 06:48:27.613 - INFO: Saving models and training states.\n"
     ]
    },
    {
     "name": "stderr",
     "output_type": "stream",
     "text": [
      "25-06-22 06:48:27.961 - INFO: Saved model in [/kaggle/working/checkpoint/I2000_E5_gen.pth] and EMA model in [/kaggle/working/checkpoint/I2000_E5_gen_ema.pth] ...\n"
     ]
    },
    {
     "name": "stderr",
     "output_type": "stream",
     "text": [
      "25-06-22 07:01:04.592 - INFO: <epoch:  5, iter:   2,100> l_pix: 2.5601e-01\n"
     ]
    },
    {
     "name": "stderr",
     "output_type": "stream",
     "text": [
      "25-06-22 07:13:41.670 - INFO: <epoch:  5, iter:   2,200> l_pix: 2.5681e-01\n"
     ]
    },
    {
     "name": "stderr",
     "output_type": "stream",
     "text": [
      "25-06-22 07:20:00.044 - INFO: Epoch 5 Average Loss: 0.26295380413532254\n"
     ]
    },
    {
     "name": "stderr",
     "output_type": "stream",
     "text": [
      "25-06-22 07:26:20.086 - INFO: <epoch:  6, iter:   2,300> l_pix: 2.6027e-01\n"
     ]
    },
    {
     "name": "stderr",
     "output_type": "stream",
     "text": [
      "25-06-22 07:38:56.764 - INFO: <epoch:  6, iter:   2,400> l_pix: 2.7581e-01\n"
     ]
    },
    {
     "name": "stderr",
     "output_type": "stream",
     "text": [
      "25-06-22 07:51:33.250 - INFO: <epoch:  6, iter:   2,500> l_pix: 2.6416e-01\n"
     ]
    },
    {
     "name": "stderr",
     "output_type": "stream",
     "text": [
      "25-06-22 08:04:10.014 - INFO: <epoch:  6, iter:   2,600> l_pix: 2.5628e-01\n"
     ]
    },
    {
     "name": "stderr",
     "output_type": "stream",
     "text": [
      "25-06-22 08:16:46.603 - INFO: <epoch:  6, iter:   2,700> l_pix: 2.6304e-01\n"
     ]
    },
    {
     "name": "stderr",
     "output_type": "stream",
     "text": [
      "25-06-22 08:16:46.658 - INFO: Epoch 6 Average Loss: 0.26299861364894445\n"
     ]
    },
    {
     "name": "stderr",
     "output_type": "stream",
     "text": [
      "25-06-22 08:29:24.414 - INFO: <epoch:  7, iter:   2,800> l_pix: 2.6857e-01\n"
     ]
    },
    {
     "name": "stderr",
     "output_type": "stream",
     "text": [
      "25-06-22 08:42:01.117 - INFO: <epoch:  7, iter:   2,900> l_pix: 2.6456e-01\n"
     ]
    },
    {
     "name": "stderr",
     "output_type": "stream",
     "text": [
      "25-06-22 08:54:38.075 - INFO: <epoch:  7, iter:   3,000> l_pix: 2.6404e-01\n"
     ]
    },
    {
     "name": "stderr",
     "output_type": "stream",
     "text": [
      "25-06-22 08:54:38.075 - INFO: Saving models and training states.\n"
     ]
    },
    {
     "name": "stderr",
     "output_type": "stream",
     "text": [
      "25-06-22 08:54:38.425 - INFO: Saved model in [/kaggle/working/checkpoint/I3000_E7_gen.pth] and EMA model in [/kaggle/working/checkpoint/I3000_E7_gen_ema.pth] ...\n"
     ]
    },
    {
     "name": "stderr",
     "output_type": "stream",
     "text": [
      "25-06-22 09:07:15.140 - INFO: <epoch:  7, iter:   3,100> l_pix: 2.5595e-01\n"
     ]
    },
    {
     "name": "stderr",
     "output_type": "stream",
     "text": [
      "25-06-22 09:13:33.484 - INFO: Epoch 7 Average Loss: 0.2629716024796168\n"
     ]
    },
    {
     "name": "stderr",
     "output_type": "stream",
     "text": [
      "25-06-22 09:19:53.192 - INFO: <epoch:  8, iter:   3,200> l_pix: 2.5604e-01\n"
     ]
    },
    {
     "name": "stderr",
     "output_type": "stream",
     "text": [
      "25-06-22 09:32:29.751 - INFO: <epoch:  8, iter:   3,300> l_pix: 2.6797e-01\n"
     ]
    },
    {
     "name": "stderr",
     "output_type": "stream",
     "text": [
      "25-06-22 09:45:06.320 - INFO: <epoch:  8, iter:   3,400> l_pix: 2.5270e-01\n"
     ]
    },
    {
     "name": "stderr",
     "output_type": "stream",
     "text": [
      "25-06-22 09:57:42.935 - INFO: <epoch:  8, iter:   3,500> l_pix: 2.6341e-01\n"
     ]
    },
    {
     "name": "stderr",
     "output_type": "stream",
     "text": [
      "25-06-22 10:10:19.540 - INFO: <epoch:  8, iter:   3,600> l_pix: 2.5540e-01\n"
     ]
    },
    {
     "name": "stderr",
     "output_type": "stream",
     "text": [
      "25-06-22 10:10:19.592 - INFO: Epoch 8 Average Loss: 0.2629618999030855\n"
     ]
    },
    {
     "name": "stderr",
     "output_type": "stream",
     "text": [
      "25-06-22 10:22:57.556 - INFO: <epoch:  9, iter:   3,700> l_pix: 2.6443e-01\n"
     ]
    },
    {
     "name": "stderr",
     "output_type": "stream",
     "text": [
      "25-06-22 10:35:33.945 - INFO: <epoch:  9, iter:   3,800> l_pix: 2.5943e-01\n"
     ]
    },
    {
     "name": "stderr",
     "output_type": "stream",
     "text": [
      "25-06-22 10:48:10.742 - INFO: <epoch:  9, iter:   3,900> l_pix: 2.6819e-01\n"
     ]
    },
    {
     "name": "stderr",
     "output_type": "stream",
     "text": [
      "25-06-22 11:00:47.202 - INFO: <epoch:  9, iter:   4,000> l_pix: 2.6457e-01\n"
     ]
    },
    {
     "name": "stderr",
     "output_type": "stream",
     "text": [
      "25-06-22 11:00:47.203 - INFO: Saving models and training states.\n"
     ]
    },
    {
     "name": "stderr",
     "output_type": "stream",
     "text": [
      "25-06-22 11:00:47.541 - INFO: Saved model in [/kaggle/working/checkpoint/I4000_E9_gen.pth] and EMA model in [/kaggle/working/checkpoint/I4000_E9_gen_ema.pth] ...\n"
     ]
    },
    {
     "name": "stderr",
     "output_type": "stream",
     "text": [
      "25-06-22 11:07:05.810 - INFO: Epoch 9 Average Loss: 0.26293015744951037\n"
     ]
    },
    {
     "name": "stderr",
     "output_type": "stream",
     "text": [
      "25-06-22 11:13:25.364 - INFO: <epoch: 10, iter:   4,100> l_pix: 2.6312e-01\n"
     ]
    },
    {
     "name": "stderr",
     "output_type": "stream",
     "text": [
      "25-06-22 11:26:02.016 - INFO: <epoch: 10, iter:   4,200> l_pix: 2.6465e-01\n"
     ]
    },
    {
     "name": "stderr",
     "output_type": "stream",
     "text": [
      "25-06-22 11:38:38.437 - INFO: <epoch: 10, iter:   4,300> l_pix: 2.5587e-01\n"
     ]
    },
    {
     "name": "stderr",
     "output_type": "stream",
     "text": [
      "25-06-22 11:51:15.070 - INFO: <epoch: 10, iter:   4,400> l_pix: 2.7659e-01\n"
     ]
    },
    {
     "name": "stderr",
     "output_type": "stream",
     "text": [
      "25-06-22 12:03:51.468 - INFO: <epoch: 10, iter:   4,500> l_pix: 2.5606e-01\n"
     ]
    },
    {
     "name": "stderr",
     "output_type": "stream",
     "text": [
      "25-06-22 12:03:51.526 - INFO: Epoch 10 Average Loss: 0.26293717821439105\n"
     ]
    },
    {
     "name": "stderr",
     "output_type": "stream",
     "text": [
      "25-06-22 12:16:29.204 - INFO: <epoch: 11, iter:   4,600> l_pix: 2.5587e-01\n"
     ]
    },
    {
     "name": "stderr",
     "output_type": "stream",
     "text": [
      "25-06-22 12:29:05.782 - INFO: <epoch: 11, iter:   4,700> l_pix: 2.6434e-01\n"
     ]
    },
    {
     "name": "stderr",
     "output_type": "stream",
     "text": [
      "25-06-22 12:41:42.305 - INFO: <epoch: 11, iter:   4,800> l_pix: 2.5578e-01\n"
     ]
    },
    {
     "name": "stderr",
     "output_type": "stream",
     "text": [
      "25-06-22 12:54:19.270 - INFO: <epoch: 11, iter:   4,900> l_pix: 2.5585e-01\n"
     ]
    },
    {
     "name": "stderr",
     "output_type": "stream",
     "text": [
      "25-06-22 13:00:37.541 - INFO: Epoch 11 Average Loss: 0.2628464452425639\n"
     ]
    },
    {
     "name": "stderr",
     "output_type": "stream",
     "text": [
      "25-06-22 13:06:57.089 - INFO: <epoch: 12, iter:   5,000> l_pix: 2.5577e-01\n"
     ]
    },
    {
     "name": "stderr",
     "output_type": "stream",
     "text": [
      "25-06-22 13:06:57.091 - INFO: Saving models and training states.\n"
     ]
    },
    {
     "name": "stderr",
     "output_type": "stream",
     "text": [
      "25-06-22 13:06:57.435 - INFO: Saved model in [/kaggle/working/checkpoint/I5000_E12_gen.pth] and EMA model in [/kaggle/working/checkpoint/I5000_E12_gen_ema.pth] ...\n"
     ]
    },
    {
     "name": "stderr",
     "output_type": "stream",
     "text": [
      "25-06-22 13:19:33.978 - INFO: <epoch: 12, iter:   5,100> l_pix: 2.6118e-01\n"
     ]
    },
    {
     "name": "stderr",
     "output_type": "stream",
     "text": [
      "25-06-22 13:32:10.486 - INFO: <epoch: 12, iter:   5,200> l_pix: 2.6775e-01\n"
     ]
    },
    {
     "name": "stderr",
     "output_type": "stream",
     "text": [
      "25-06-22 13:44:47.005 - INFO: <epoch: 12, iter:   5,300> l_pix: 2.6874e-01\n"
     ]
    },
    {
     "name": "stderr",
     "output_type": "stream",
     "text": [
      "25-06-22 13:57:23.620 - INFO: <epoch: 12, iter:   5,400> l_pix: 2.6364e-01\n"
     ]
    },
    {
     "name": "stderr",
     "output_type": "stream",
     "text": [
      "25-06-22 13:57:23.682 - INFO: Epoch 12 Average Loss: 0.2629329017466969\n"
     ]
    },
    {
     "name": "stderr",
     "output_type": "stream",
     "text": [
      "25-06-22 14:10:01.735 - INFO: <epoch: 13, iter:   5,500> l_pix: 2.5146e-01\n"
     ]
    },
    {
     "name": "stderr",
     "output_type": "stream",
     "text": [
      "25-06-22 14:22:38.289 - INFO: <epoch: 13, iter:   5,600> l_pix: 2.5753e-01\n"
     ]
    }
   ],
   "source": [
    "# model initialization\n",
    "diffusion = SR3(opt)\n",
    "\n",
    "# Training\n",
    "epoch_loss_list = []\n",
    "current_step = diffusion.begin_step\n",
    "current_epoch = diffusion.begin_epoch\n",
    "n_iter = opt['train']['n_iter']\n",
    "\n",
    "accumulation_steps = opt['train']['accumulation_steps']\n",
    "logger.info(f\"Using gradient accumulation with {accumulation_steps} steps.\")\n",
    "optimizer = diffusion.optG\n",
    "scaler = diffusion.scaler\n",
    "scheduler = diffusion.schedulerG\n",
    "\n",
    "if opt['path']['resume_state']:\n",
    "    logger.info(f'Resuming training from epoch: {current_epoch}, iter: {current_step}.')\n",
    "\n",
    "if opt['phase'] == 'train':\n",
    "    torch.autograd.set_detect_anomaly(True)\n",
    "    optimizer.zero_grad()\n",
    "    while current_step < n_iter:\n",
    "        current_epoch += 1\n",
    "        epoch_loss_values = []\n",
    "        \n",
    "        for i, train_data in enumerate(train_loader):\n",
    "\n",
    "            if torch.isnan(train_data['Noisy']).any() or torch.isnan(train_data['GT']).any() or torch.isnan(train_data['Anat']).any():\n",
    "                logger.error(f\"NaN found in input data at step {current_step}. Aborting.\")\n",
    "                break\n",
    "            \n",
    "            current_step += 1\n",
    "            if current_step > n_iter: break\n",
    "            \n",
    "            diffusion.feed_data(train_data)\n",
    "            \n",
    "            with torch.cuda.amp.autocast(dtype=torch.bfloat16):\n",
    "                l_pix = diffusion.netG(diffusion.data)\n",
    "                b, c, h, w = diffusion.data['GT'].shape\n",
    "                raw_loss = l_pix.sum() / int(b*c*h*w)\n",
    "                loss = raw_loss / accumulation_steps\n",
    "            \n",
    "            scaler.scale(loss).backward()\n",
    "            \n",
    "            if (i + 1) % accumulation_steps == 0:\n",
    "                scaler.unscale_(optimizer)\n",
    "                torch.nn.utils.clip_grad_norm_(diffusion.netG.parameters(), max_norm=0.5)\n",
    "                scaler.step(optimizer)\n",
    "                scaler.update()\n",
    "                optimizer.zero_grad()\n",
    "                scheduler.step()\n",
    "            \n",
    "            diffusion._update_ema(current_step)\n",
    "            \n",
    "            current_l_pix = raw_loss.item()\n",
    "            epoch_loss_values.append(current_l_pix)\n",
    "                \n",
    "            if current_step % opt['train']['print_freq'] == 0:\n",
    "                logger.info(f'<epoch:{current_epoch:3d}, iter:{current_step:8,d}> l_pix: {current_l_pix:.4e}')\n",
    "                \n",
    "            if current_step % opt['train']['save_checkpoint_freq'] == 0:\n",
    "                logger.info('Saving models and training states.')\n",
    "                diffusion.save_network(current_epoch, current_step)\n",
    "            \n",
    "            if current_step == n_iter:\n",
    "                logger.info(\"Saving final model\")\n",
    "                diffusion.save_network(current_epoch, current_step, is_final=True)\n",
    "\n",
    "        if epoch_loss_values:\n",
    "            epoch_loss = sum(epoch_loss_values)/len(epoch_loss_values)\n",
    "            logger.info(f'Epoch {current_epoch} Average Loss: {epoch_loss}')\n",
    "            epoch_loss_list.append(epoch_loss)\n",
    "\n",
    "    logger.info('End of training.')"
   ]
  },
  {
   "cell_type": "markdown",
   "id": "753ae502",
   "metadata": {
    "papermill": {
     "duration": null,
     "end_time": null,
     "exception": null,
     "start_time": null,
     "status": "pending"
    },
    "tags": []
   },
   "source": [
    "#### Training visualization"
   ]
  },
  {
   "cell_type": "code",
   "execution_count": null,
   "id": "ad059da1",
   "metadata": {
    "papermill": {
     "duration": null,
     "end_time": null,
     "exception": null,
     "start_time": null,
     "status": "pending"
    },
    "tags": []
   },
   "outputs": [],
   "source": [
    "def save_loss_curve(epoch_loss_list, filename='loss_curve.png'):\n",
    "    epochs = range(1, len(epoch_loss_list) + 1)  # X-axis starts at 1\n",
    "    plt.figure(figsize=(8, 5))\n",
    "    plt.plot(epochs, epoch_loss_list, marker='o', label='Training Loss')\n",
    "    plt.title('Loss Curve')\n",
    "    plt.xlabel('Epoch')\n",
    "    plt.ylabel('Loss')\n",
    "    plt.xticks(epochs)  # Set integer ticks\n",
    "    plt.grid(True)\n",
    "    plt.legend()\n",
    "    plt.tight_layout()\n",
    "    plt.savefig(filename)\n",
    "    plt.close()"
   ]
  },
  {
   "cell_type": "code",
   "execution_count": null,
   "id": "e769b9a4",
   "metadata": {
    "papermill": {
     "duration": null,
     "end_time": null,
     "exception": null,
     "start_time": null,
     "status": "pending"
    },
    "tags": []
   },
   "outputs": [],
   "source": [
    "save_loss_curve(epoch_loss_list, \"/kaggle/working/train_loss.png\")"
   ]
  },
  {
   "cell_type": "code",
   "execution_count": null,
   "id": "c550d881",
   "metadata": {
    "papermill": {
     "duration": null,
     "end_time": null,
     "exception": null,
     "start_time": null,
     "status": "pending"
    },
    "tags": []
   },
   "outputs": [],
   "source": [
    "# test loop\n",
    "\n",
    "logger.info('Starting model evaluation on the test set using EMA weights...')\n",
    "test_loss_list = []\n",
    "\n",
    "for i, test_data in enumerate(tqdm(test_loader, desc=\"Evaluating on test set\")):\n",
    "    current_test_loss = diffusion.evaluate_loss(test_data, use_ema=True)\n",
    "    test_loss_list.append(current_test_loss)\n",
    "    \n",
    "if test_loss_list:\n",
    "    avg_test_loss = sum(test_loss_list) / len(test_loss_list)\n",
    "    logger.info('=' * 20)\n",
    "    logger.info(f'Average Test Loss (EMA): {avg_test_loss:.4e}')\n",
    "    logger.info('=' * 20)\n",
    "else:\n",
    "    logger.info('Test set was empty or no losses were calculated.')"
   ]
  }
 ],
 "metadata": {
  "kaggle": {
   "accelerator": "gpu",
   "dataSources": [
    {
     "datasetId": 7419713,
     "sourceId": 11813224,
     "sourceType": "datasetVersion"
    },
    {
     "datasetId": 7419718,
     "sourceId": 11813229,
     "sourceType": "datasetVersion"
    },
    {
     "datasetId": 7419725,
     "sourceId": 11813237,
     "sourceType": "datasetVersion"
    },
    {
     "datasetId": 7421178,
     "sourceId": 11815303,
     "sourceType": "datasetVersion"
    },
    {
     "datasetId": 7705878,
     "sourceId": 12230264,
     "sourceType": "datasetVersion"
    },
    {
     "datasetId": 7705886,
     "sourceId": 12230275,
     "sourceType": "datasetVersion"
    },
    {
     "datasetId": 7705889,
     "sourceId": 12230280,
     "sourceType": "datasetVersion"
    },
    {
     "datasetId": 7705891,
     "sourceId": 12230283,
     "sourceType": "datasetVersion"
    },
    {
     "datasetId": 7712535,
     "sourceId": 12240417,
     "sourceType": "datasetVersion"
    }
   ],
   "dockerImageVersionId": 31011,
   "isGpuEnabled": true,
   "isInternetEnabled": false,
   "language": "python",
   "sourceType": "notebook"
  },
  "kernelspec": {
   "display_name": "Python 3",
   "language": "python",
   "name": "python3"
  },
  "language_info": {
   "codemirror_mode": {
    "name": "ipython",
    "version": 3
   },
   "file_extension": ".py",
   "mimetype": "text/x-python",
   "name": "python",
   "nbconvert_exporter": "python",
   "pygments_lexer": "ipython3",
   "version": "3.11.11"
  },
  "papermill": {
   "default_parameters": {},
   "duration": null,
   "end_time": null,
   "environment_variables": {},
   "exception": null,
   "input_path": "__notebook__.ipynb",
   "output_path": "__notebook__.ipynb",
   "parameters": {},
   "start_time": "2025-06-22T02:33:54.821276",
   "version": "2.6.0"
  }
 },
 "nbformat": 4,
 "nbformat_minor": 5
}
