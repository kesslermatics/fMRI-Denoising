{
 "cells": [
  {
   "cell_type": "code",
   "execution_count": 2,
   "id": "2e68f238",
   "metadata": {},
   "outputs": [
    {
     "name": "stdout",
     "output_type": "stream",
     "text": [
      "Resulting sequence shape: (245700, 64, 64)\n"
     ]
    }
   ],
   "source": [
    "import numpy as np\n",
    "\n",
    "# Load the array (shape: 64, 64, 819, 300)\n",
    "gt = np.load('../input/gt_func_train_1.npy')\n",
    "\n",
    "# Step 1: bring the 3rd and 4th dims to the front so we can treat each slice as an image\n",
    "# After transpose, shape will be (819, 300, 64, 64)\n",
    "gt_seq = np.transpose(gt, (2, 3, 0, 1))\n",
    "\n",
    "# Step 2: collapse the first two dims (819 × 300) into one long sequence of images\n",
    "# The order is preserved: for i in 0..818, for j in 0..299 → index = i*300 + j\n",
    "images = gt_seq.reshape(-1, gt.shape[0], gt.shape[1])\n",
    "\n",
    "print('Resulting sequence shape:', images.shape)  # (819*300, 64, 64)\n",
    "\n",
    "# Now `images[k]` is the k-th 64×64 image in the original order.\n"
   ]
  },
  {
   "cell_type": "code",
   "execution_count": 8,
   "id": "4f58e771",
   "metadata": {},
   "outputs": [
    {
     "data": {
      "image/png": "[encoded data removed]",
      "text/plain": [
       "<Figure size 400x400 with 1 Axes>"
      ]
     },
     "metadata": {},
     "output_type": "display_data"
    }
   ],
   "source": [
    "import matplotlib.pyplot as plt\n",
    "\n",
    "\n",
    "plt.figure(figsize=(4, 4))\n",
    "plt.imshow(images[5000], cmap='gray')\n",
    "plt.title(f'Image {5000}')\n",
    "plt.axis('off')\n",
    "\n",
    "plt.show()"
   ]
  },
  {
   "cell_type": "code",
   "execution_count": 18,
   "id": "1fda0b19",
   "metadata": {},
   "outputs": [
    {
     "name": "stdout",
     "output_type": "stream",
     "text": [
      "Processed 10000/245700 slices\n",
      "-------------------------------\n",
      "Average PSNR: 20.3908\n",
      "Average SSIM: 0.5184\n",
      "-------------------------------\n",
      "Processed 20000/245700 slices\n",
      "-------------------------------\n",
      "Average PSNR: 20.3950\n",
      "Average SSIM: 0.5014\n",
      "-------------------------------\n",
      "Processed 30000/245700 slices\n",
      "-------------------------------\n",
      "Average PSNR: 20.3093\n",
      "Average SSIM: 0.4868\n",
      "-------------------------------\n"
     ]
    },
    {
     "ename": "KeyboardInterrupt",
     "evalue": "",
     "output_type": "error",
     "traceback": [
      "\u001b[31m---------------------------------------------------------------------------\u001b[39m",
      "\u001b[31mKeyboardInterrupt\u001b[39m                         Traceback (most recent call last)",
      "\u001b[36mCell\u001b[39m\u001b[36m \u001b[39m\u001b[32mIn[18]\u001b[39m\u001b[32m, line 67\u001b[39m\n\u001b[32m     65\u001b[39m \u001b[38;5;28;01mfor\u001b[39;00m j \u001b[38;5;129;01min\u001b[39;00m \u001b[38;5;28mrange\u001b[39m(d3):\n\u001b[32m     66\u001b[39m     slice_gt = normalize_to_uint8(gt[:, :, i, j])\n\u001b[32m---> \u001b[39m\u001b[32m67\u001b[39m     slice_sr = \u001b[43mnormalize_to_uint8\u001b[49m\u001b[43m(\u001b[49m\u001b[43msr\u001b[49m\u001b[43m[\u001b[49m\u001b[43m:\u001b[49m\u001b[43m,\u001b[49m\u001b[43m \u001b[49m\u001b[43m:\u001b[49m\u001b[43m,\u001b[49m\u001b[43m \u001b[49m\u001b[43mi\u001b[49m\u001b[43m,\u001b[49m\u001b[43m \u001b[49m\u001b[43mj\u001b[49m\u001b[43m]\u001b[49m\u001b[43m)\u001b[49m\n\u001b[32m     68\u001b[39m     total_psnr += calculate_psnr(slice_sr, slice_gt)\n\u001b[32m     69\u001b[39m     total_ssim += calculate_ssim(slice_sr, slice_gt)\n",
      "\u001b[36mCell\u001b[39m\u001b[36m \u001b[39m\u001b[32mIn[18]\u001b[39m\u001b[32m, line 41\u001b[39m, in \u001b[36mnormalize_to_uint8\u001b[39m\u001b[34m(arr)\u001b[39m\n\u001b[32m     39\u001b[39m \u001b[38;5;28;01mdef\u001b[39;00m\u001b[38;5;250m \u001b[39m\u001b[34mnormalize_to_uint8\u001b[39m(arr):\n\u001b[32m     40\u001b[39m \u001b[38;5;250m    \u001b[39m\u001b[33;03m\"\"\"Scale a float array to [0,255] uint8.\"\"\"\u001b[39;00m\n\u001b[32m---> \u001b[39m\u001b[32m41\u001b[39m     a = \u001b[43marr\u001b[49m\u001b[43m.\u001b[49m\u001b[43mastype\u001b[49m\u001b[43m(\u001b[49m\u001b[43mnp\u001b[49m\u001b[43m.\u001b[49m\u001b[43mfloat64\u001b[49m\u001b[43m)\u001b[49m\n\u001b[32m     42\u001b[39m     a -= a.min()\n\u001b[32m     43\u001b[39m     \u001b[38;5;28;01mif\u001b[39;00m a.max() != \u001b[32m0\u001b[39m:\n",
      "\u001b[31mKeyboardInterrupt\u001b[39m: "
     ]
    }
   ],
   "source": [
    "import math\n",
    "import numpy as np\n",
    "import cv2\n",
    "\n",
    "def calculate_psnr(img1, img2):\n",
    "    \"\"\"Compute PSNR between two uint8 images.\"\"\"\n",
    "    img1 = img1.astype(np.float64)\n",
    "    img2 = img2.astype(np.float64)\n",
    "    mse = np.mean((img1 - img2)**2)\n",
    "    return float('inf') if mse == 0 else 20 * math.log10(255.0 / math.sqrt(mse))\n",
    "\n",
    "def _ssim2d(ch1, ch2):\n",
    "    \"\"\"Compute SSIM for a single-channel 2D image.\"\"\"\n",
    "    C1 = (0.01*255)**2\n",
    "    C2 = (0.03*255)**2\n",
    "    ch1 = ch1.astype(np.float64)\n",
    "    ch2 = ch2.astype(np.float64)\n",
    "    kernel = cv2.getGaussianKernel(11, 1.5)\n",
    "    window = np.outer(kernel, kernel.T)\n",
    "    mu1 = cv2.filter2D(ch1, -1, window)[5:-5,5:-5]\n",
    "    mu2 = cv2.filter2D(ch2, -1, window)[5:-5,5:-5]\n",
    "    mu1_sq, mu2_sq = mu1**2, mu2**2\n",
    "    mu1_mu2 = mu1 * mu2\n",
    "    sigma1_sq = cv2.filter2D(ch1**2, -1, window)[5:-5,5:-5] - mu1_sq\n",
    "    sigma2_sq = cv2.filter2D(ch2**2, -1, window)[5:-5,5:-5] - mu2_sq\n",
    "    sigma12 = cv2.filter2D(ch1*ch2, -1, window)[5:-5,5:-5] - mu1_mu2\n",
    "    ssim_map = ((2*mu1_mu2 + C1)*(2*sigma12 + C2)) / ((mu1_sq+mu2_sq+C1)*(sigma1_sq+sigma2_sq+C2))\n",
    "    return ssim_map.mean()\n",
    "\n",
    "def calculate_ssim(img1, img2):\n",
    "    \"\"\"Compute SSIM between two images (grayscale or RGB).\"\"\"\n",
    "    if img1.ndim == 2:\n",
    "        return _ssim2d(img1, img2)\n",
    "    elif img1.ndim == 3 and img1.shape[2] == 3:\n",
    "        return float(np.mean([_ssim2d(img1[:,:,c], img2[:,:,c]) for c in range(3)]))\n",
    "    else:\n",
    "        raise ValueError(\"Unsupported image dimensions for SSIM.\")\n",
    "\n",
    "def normalize_to_uint8(arr):\n",
    "    \"\"\"Scale a float array to [0,255] uint8.\"\"\"\n",
    "    a = arr.astype(np.float64)\n",
    "    a -= a.min()\n",
    "    if a.max() != 0:\n",
    "        a /= a.max()\n",
    "    return (a*255).round().astype(np.uint8)\n",
    "\n",
    "# ─── Configuration ─────────────────────────────────────────────────────────────\n",
    "GT_INPUT_PATH = '../input/gt_func_train_1.npy'  # path to GT .npy\n",
    "DENOISED_INPUT_PATH = '../input/noisy_func_train_1.npy'  # path to GT .npy\n",
    "\n",
    "GT_PATH = GT_INPUT_PATH\n",
    "SR_PATH = DENOISED_INPUT_PATH\n",
    "\n",
    "# ─── Load as memory-mapped arrays ───────────────────────────────────────────────\n",
    "gt = np.load(GT_PATH, mmap_mode='r')  # shape (64, 64, 819, 300)\n",
    "sr = np.load(SR_PATH, mmap_mode='r')\n",
    "\n",
    "# ─── Batch-wise Loop ───────────────────────────────────────────────────────────\n",
    "d0, d1, d2, d3 = gt.shape\n",
    "total_psnr = 0.0\n",
    "total_ssim = 0.0\n",
    "count = 0\n",
    "\n",
    "for i in range(d2):\n",
    "    for j in range(d3):\n",
    "        slice_gt = normalize_to_uint8(gt[:, :, i, j])\n",
    "        slice_sr = normalize_to_uint8(sr[:, :, i, j])\n",
    "        total_psnr += calculate_psnr(slice_sr, slice_gt)\n",
    "        total_ssim += calculate_ssim(slice_sr, slice_gt)\n",
    "        count += 1\n",
    "        if count % 10000 == 0 or (i == d2-1 and j == d3-1):\n",
    "            print(f\"Processed {count}/{d2*d3} slices\")\n",
    "            \n",
    "            avg_psnr = total_psnr / count\n",
    "            avg_ssim = total_ssim / count\n",
    "            print(\"-------------------------------\")\n",
    "            print(f\"Average PSNR: {avg_psnr:.4f}\")\n",
    "            print(f\"Average SSIM: {avg_ssim:.4f}\")\n",
    "            print(\"-------------------------------\")\n",
    "\n",
    "# ─── Final Averages ────────────────────────────────────────────────────────────\n",
    "avg_psnr = total_psnr / count\n",
    "avg_ssim = total_ssim / count\n",
    "\n",
    "print(f\"Average PSNR: {avg_psnr:.4f}\")\n",
    "print(f\"Average SSIM: {avg_ssim:.4f}\")\n"
   ]
  },
  {
   "cell_type": "code",
   "execution_count": null,
   "id": "8bfcf807",
   "metadata": {},
   "outputs": [],
   "source": []
  }
 ],
 "metadata": {
  "kernelspec": {
   "display_name": "venv",
   "language": "python",
   "name": "python3"
  },
  "language_info": {
   "codemirror_mode": {
    "name": "ipython",
    "version": 3
   },
   "file_extension": ".py",
   "mimetype": "text/x-python",
   "name": "python",
   "nbconvert_exporter": "python",
   "pygments_lexer": "ipython3",
   "version": "3.12.3"
  }
 },
 "nbformat": 4,
 "nbformat_minor": 5
}
